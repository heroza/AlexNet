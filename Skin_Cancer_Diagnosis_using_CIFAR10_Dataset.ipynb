{
  "cells": [
    {
      "cell_type": "markdown",
      "metadata": {
        "id": "view-in-github",
        "colab_type": "text"
      },
      "source": [
        "<a href=\"https://colab.research.google.com/github/heroza/AlexNet/blob/master/Skin_Cancer_Diagnosis_using_CIFAR10_Dataset.ipynb\" target=\"_parent\"><img src=\"https://colab.research.google.com/assets/colab-badge.svg\" alt=\"Open In Colab\"/></a>"
      ]
    },
    {
      "cell_type": "markdown",
      "metadata": {
        "id": "PUusDE1Z9TNb"
      },
      "source": [
        "Prepare the dataset. \n",
        "Currently, we use skin cancer ISIC dataset from Kaggle https://www.kaggle.com/datasets/nodoubttome/skin-cancer9-classesisic\n",
        "\n",
        "Tutorial for how to load Kaggle dataset can be found in https://www.analyticsvidhya.com/blog/2021/06/how-to-load-kaggle-datasets-directly-into-google-colab/"
      ]
    },
    {
      "cell_type": "code",
      "execution_count": 2,
      "metadata": {
        "colab": {
          "base_uri": "https://localhost:8080/"
        },
        "id": "Eus_4tUgfEk9",
        "outputId": "7473280c-ade8-447a-a0ce-7969c2ac5f9b"
      },
      "outputs": [
        {
          "output_type": "stream",
          "name": "stdout",
          "text": [
            "Mounted at /content/drive\n"
          ]
        }
      ],
      "source": [
        "from google.colab import drive\n",
        "drive.mount('/content/drive')"
      ]
    },
    {
      "cell_type": "code",
      "execution_count": 3,
      "metadata": {
        "colab": {
          "base_uri": "https://localhost:8080/"
        },
        "id": "nR2MJBYq-oiB",
        "outputId": "038f1da9-3f4c-4e0a-d146-3e57eb3d63df"
      },
      "outputs": [
        {
          "output_type": "stream",
          "name": "stdout",
          "text": [
            "Looking in indexes: https://pypi.org/simple, https://us-python.pkg.dev/colab-wheels/public/simple/\n",
            "Requirement already satisfied: imbalanced-learn in /usr/local/lib/python3.7/dist-packages (0.8.1)\n",
            "Requirement already satisfied: scikit-learn>=0.24 in /usr/local/lib/python3.7/dist-packages (from imbalanced-learn) (1.0.2)\n",
            "Requirement already satisfied: joblib>=0.11 in /usr/local/lib/python3.7/dist-packages (from imbalanced-learn) (1.1.0)\n",
            "Requirement already satisfied: scipy>=0.19.1 in /usr/local/lib/python3.7/dist-packages (from imbalanced-learn) (1.7.3)\n",
            "Requirement already satisfied: numpy>=1.13.3 in /usr/local/lib/python3.7/dist-packages (from imbalanced-learn) (1.21.6)\n",
            "Requirement already satisfied: threadpoolctl>=2.0.0 in /usr/local/lib/python3.7/dist-packages (from scikit-learn>=0.24->imbalanced-learn) (3.1.0)\n"
          ]
        }
      ],
      "source": [
        "import pandas as pd\n",
        "import numpy as np\n",
        "import tensorflow as tf\n",
        "import matplotlib.pyplot as plt\n",
        "import seaborn as sns\n",
        "import os\n",
        "from collections import Counter\n",
        "from pathlib import Path\n",
        "from PIL import Image\n",
        "from sklearn import preprocessing\n",
        "from sklearn.metrics import precision_recall_fscore_support, balanced_accuracy_score, confusion_matrix, accuracy_score\n",
        "from keras.callbacks import ReduceLROnPlateau, EarlyStopping, ModelCheckpoint\n",
        "from keras.preprocessing.image import ImageDataGenerator\n",
        "from tensorflow import keras\n",
        "from tensorflow.keras import layers\n",
        "from tensorflow.keras.optimizers import Adam, SGD\n",
        "from tensorflow.keras.preprocessing import image\n",
        "from tensorflow.keras.applications.resnet50 import ResNet50, preprocess_input, decode_predictions\n",
        "from tensorflow.keras.layers import GlobalAveragePooling2D, Dense, Input, Dropout, Flatten\n",
        "from tensorflow.keras.models import Model, load_model\n",
        "from keras.utils.np_utils import to_categorical\n",
        "\n",
        "!pip install imbalanced-learn\n",
        "import imblearn\n",
        "from imblearn.over_sampling import SMOTE"
      ]
    },
    {
      "cell_type": "code",
      "execution_count": 4,
      "metadata": {
        "id": "9-c7Xghg4SB4"
      },
      "outputs": [],
      "source": [
        "# input image size\n",
        "IMAGE_W = 32\n",
        "IMAGE_H = 32\n",
        "IMG_SIZE = (IMAGE_W,IMAGE_H)\n",
        "num_classes = 10"
      ]
    },
    {
      "cell_type": "markdown",
      "source": [
        "#Load CIFAR-10 data\n",
        "Output are X_train, X_val with dimension WIDTH, HEIGHT, CHANNELS and y_train, y_val which are one-hot encoded label"
      ],
      "metadata": {
        "id": "XDsZpuTROVJ5"
      }
    },
    {
      "cell_type": "code",
      "source": [
        "# load train and test dataset\n",
        "def load_cifar10_dataset():\n",
        "  from keras.datasets import cifar10\n",
        "\t# load dataset\n",
        "  (trainX, trainY), (testX, testY) = cifar10.load_data()\n",
        "\t# one hot encode target values\n",
        "  trainY = to_categorical(trainY)\n",
        "  testY = to_categorical(testY)\n",
        "  return trainX, trainY, testX, testY"
      ],
      "metadata": {
        "id": "JffFid9sOXeo"
      },
      "execution_count": 41,
      "outputs": []
    },
    {
      "cell_type": "code",
      "source": [
        "# summarize loaded dataset\n",
        "X_train, y_train, X_val, y_val = load_cifar10_dataset()\n",
        "print('Train: X=%s, y=%s' % (X_train.shape, y_train.shape))\n",
        "print('Test: X=%s, y=%s' % (X_val.shape, y_val.shape))\n",
        "# plot first few images\n",
        "for i in range(9):\n",
        "\t# define subplot\n",
        "\tplt.subplot(330 + 1 + i)\n",
        "\t# plot raw pixel data\n",
        "\tplt.imshow(X_train[i])\n",
        "# show the figure\n",
        "plt.show()"
      ],
      "metadata": {
        "colab": {
          "base_uri": "https://localhost:8080/",
          "height": 303
        },
        "id": "bG8J57ldOUPg",
        "outputId": "e313a332-a084-4093-fbd5-1beb92e30759"
      },
      "execution_count": 20,
      "outputs": [
        {
          "output_type": "stream",
          "name": "stdout",
          "text": [
            "Train: X=(50000, 32, 32, 3), y=(50000, 1)\n",
            "Test: X=(10000, 32, 32, 3), y=(10000, 1)\n"
          ]
        },
        {
          "output_type": "display_data",
          "data": {
            "text/plain": [
              "<Figure size 432x288 with 9 Axes>"
            ],
            "image/png": "[encoded data removed]"
          },
          "metadata": {
            "needs_background": "light"
          }
        }
      ]
    },
    {
      "cell_type": "markdown",
      "metadata": {
        "id": "RcRGeofw-8tK"
      },
      "source": [
        "#Load ISIC 2018 Challange Data\n",
        "Output are X_train, X_val with dimension WIDTH, HEIGHT, CHANNELS and y_train, y_val which are one-hot encoded label"
      ]
    },
    {
      "cell_type": "code",
      "execution_count": null,
      "metadata": {
        "id": "3mnEebdJH6Ex"
      },
      "outputs": [],
      "source": [
        "df_train = pd.read_csv('/content/drive/MyDrive/PHD/Datasets/isic2018/ISIC2018_Task3_Training_GroundTruth/ISIC2018_Task3_Training_GroundTruth.csv') \n",
        "df_val = pd.read_csv('/content/drive/MyDrive/PHD/Datasets/isic2018/ISIC2018_Task3_Validation_GroundTruth/ISIC2018_Task3_Validation_GroundTruth.csv') \n",
        "num_classes = 7\n",
        "#df_train"
      ]
    },
    {
      "cell_type": "code",
      "execution_count": null,
      "metadata": {
        "id": "aFSe3uekK67v"
      },
      "outputs": [],
      "source": [
        "#decode one hot label\n",
        "df_train[\"Labels\"] = (df_train.iloc[:, 1:]).idxmax(axis=1)\n",
        "df_val[\"Labels\"] = (df_val.iloc[:, 1:]).idxmax(axis=1)\n",
        "\n",
        "#drop one-hot column\n",
        "df_train = df_train.drop(columns=['MEL', 'NV', 'BCC', 'AKIEC', 'BKL', 'DF', 'VASC'])\n",
        "df_val = df_val.drop(columns=['MEL', 'NV', 'BCC', 'AKIEC', 'BKL', 'DF', 'VASC'])\n",
        "\n",
        "#make filepaths of the image\n",
        "dir_train = '/content/drive/MyDrive/PHD/Datasets/isic2018/ISIC2018_Task3_Training_Input/'\n",
        "dir_val = '/content/drive/MyDrive/PHD/Datasets/isic2018/ISIC2018_Task3_Validation_Input/'\n",
        "df_train['FilePaths'] = dir_train + df_train['image'] + '.jpg'\n",
        "df_val['FilePaths'] = dir_val + df_val['image'] + '.jpg'"
      ]
    },
    {
      "cell_type": "markdown",
      "metadata": {
        "id": "38f3dgvyBqFM"
      },
      "source": [
        "Label Distribution"
      ]
    },
    {
      "cell_type": "code",
      "execution_count": null,
      "metadata": {
        "colab": {
          "base_uri": "https://localhost:8080/",
          "height": 512
        },
        "id": "2IncA-_o_n5w",
        "outputId": "6db08704-addd-42d9-9371-4d805a2db101"
      },
      "outputs": [
        {
          "output_type": "execute_result",
          "data": {
            "text/plain": [
              "[Text(0, 0, 'DF'),\n",
              " Text(0, 0, 'VASC'),\n",
              " Text(0, 0, 'AKIEC'),\n",
              " Text(0, 0, 'BCC'),\n",
              " Text(0, 0, 'BKL'),\n",
              " Text(0, 0, 'MEL'),\n",
              " Text(0, 0, 'NV')]"
            ]
          },
          "metadata": {},
          "execution_count": 5
        },
        {
          "output_type": "display_data",
          "data": {
            "text/plain": [
              "<Figure size 1080x432 with 1 Axes>"
            ],
            "image/png": "[encoded data removed]"
          },
          "metadata": {
            "needs_background": "light"
          }
        }
      ],
      "source": [
        "# ordered count of rows per unique label\n",
        "labels_count = df_train['Labels'].value_counts(ascending=True)\n",
        "\n",
        "f = plt.figure(figsize=(15, 6))\n",
        "s = sns.barplot(x=labels_count.index,y=labels_count.values)\n",
        "s.set_xticklabels(s.get_xticklabels(), rotation = 30)"
      ]
    },
    {
      "cell_type": "markdown",
      "metadata": {
        "id": "AnKMKSb4Bkym"
      },
      "source": [
        "Plot 3 images per label"
      ]
    },
    {
      "cell_type": "code",
      "execution_count": null,
      "metadata": {
        "id": "jdnVuqbFBW3K"
      },
      "outputs": [],
      "source": [
        "def plot_images_per_label(df, label, cols: int, size: tuple):\n",
        "    fig, axs = plt.subplots(nrows=1, ncols=cols, figsize=size)\n",
        "\n",
        "    cntMax = cols\n",
        "    cntCur = 0\n",
        "    for index, row in df.iterrows():\n",
        "        if(row['Labels'] == label and cntCur < cntMax):\n",
        "            axs[cntCur].imshow(plt.imread(df.FilePaths[index]))\n",
        "            axs[cntCur].set_title(df.Labels[index])\n",
        "\n",
        "            cntCur += 1\n",
        "        else:\n",
        "            if(cntCur >= cntMax):\n",
        "                break\n",
        "    \n",
        "    plt.tight_layout()\n",
        "    plt.show()\n",
        "\n",
        "\n",
        "# unique labels\n",
        "labels = sorted(df_train['Labels'].unique())\n",
        "#for label in labels:\n",
        "#    plot_images_per_label(df_train, label, 3, (12,9))"
      ]
    },
    {
      "cell_type": "markdown",
      "metadata": {
        "id": "qRKKrNacAZtl"
      },
      "source": [
        "Drop duplicate images"
      ]
    },
    {
      "cell_type": "code",
      "execution_count": null,
      "metadata": {
        "id": "ERwfyPDHP-zC"
      },
      "outputs": [],
      "source": [
        "#df_group = pd.read_csv('/content/drive/MyDrive/PHD/Datasets/isic2018/ISIC2018_Task3_Training_LesionGroupings.csv') \n",
        "#df_train = df_train.set_index('image').join(df_group.set_index('image'))\n",
        "#df_train = df_train.drop_duplicates(subset=['lesion_id'])\n"
      ]
    },
    {
      "cell_type": "markdown",
      "metadata": {
        "id": "h35T8vKRVV1Y"
      },
      "source": [
        "Manual undersampling majority class"
      ]
    },
    {
      "cell_type": "code",
      "execution_count": null,
      "metadata": {
        "id": "BeldhlTdVQlT"
      },
      "outputs": [],
      "source": [
        "df_train = df_train.drop(df_train[df_train['Labels'] == 'NV'].sample(frac=.7).index)"
      ]
    },
    {
      "cell_type": "markdown",
      "metadata": {
        "id": "DKjC59JOB_6d"
      },
      "source": [
        "Prepare X,y"
      ]
    },
    {
      "cell_type": "code",
      "execution_count": null,
      "metadata": {
        "id": "3jyCpXnlFoQK"
      },
      "outputs": [],
      "source": [
        "#TIME CONSUMING OPERATION\n",
        "#from tensorflow.keras.preprocessing.image import load_img, img_to_array\n",
        "#X = []\n",
        "#for img in df['FilePaths']:\n",
        "    #img_arr = load_img(img, target_size=IMG_SIZE)\n",
        "#    with load_img(img, target_size=IMG_SIZE) as img_arr:\n",
        "#      X.append(img_to_array(img_arr))\n",
        "\n",
        "#X = np.array(X)\n",
        "df_train['image_px'] = df_train['FilePaths'].map(lambda x: np.asarray(Image.open(x).resize(IMG_SIZE)))\n",
        "df_val['image_px'] = df_val['FilePaths'].map(lambda x: np.asarray(Image.open(x).resize(IMG_SIZE)))"
      ]
    },
    {
      "cell_type": "code",
      "execution_count": null,
      "metadata": {
        "colab": {
          "base_uri": "https://localhost:8080/"
        },
        "id": "UZyZMydSgvZo",
        "outputId": "a96792a2-ca6f-4081-fb08-d01837406c36"
      },
      "outputs": [
        {
          "output_type": "stream",
          "name": "stdout",
          "text": [
            "(5321, 224, 224, 3)\n",
            "(193, 224, 224, 3)\n"
          ]
        }
      ],
      "source": [
        "X_train = np.asarray(df_train['image_px'].tolist())\n",
        "X_val = np.asarray(df_val['image_px'].tolist())\n",
        "print(np.array(X_train).shape)\n",
        "print(np.array(X_val).shape)"
      ]
    },
    {
      "cell_type": "code",
      "execution_count": null,
      "metadata": {
        "colab": {
          "base_uri": "https://localhost:8080/"
        },
        "id": "uqYLmicGAjZz",
        "outputId": "13e8cb70-91bc-4a01-838b-079e4cc1f67c"
      },
      "outputs": [
        {
          "output_type": "stream",
          "name": "stdout",
          "text": [
            "Counter({'NV': 2011, 'MEL': 1113, 'BKL': 1099, 'BCC': 514, 'AKIEC': 327, 'VASC': 142, 'DF': 115})\n",
            "(5321,)\n"
          ]
        }
      ],
      "source": [
        "y_train = np.array(df_train['Labels'].values)\n",
        "\n",
        "# summarize class distribution\n",
        "counter = Counter(y_train)\n",
        "print(counter)\n",
        "print(y_train.shape)"
      ]
    },
    {
      "cell_type": "code",
      "execution_count": null,
      "metadata": {
        "colab": {
          "base_uri": "https://localhost:8080/"
        },
        "id": "kEuVIGc3g859",
        "outputId": "bfa80ce2-cdc8-466d-b218-7705951dc453"
      },
      "outputs": [
        {
          "output_type": "stream",
          "name": "stdout",
          "text": [
            "Counter({'NV': 123, 'BKL': 22, 'MEL': 21, 'BCC': 15, 'AKIEC': 8, 'VASC': 3, 'DF': 1})\n",
            "(193,)\n"
          ]
        }
      ],
      "source": [
        "y_val = np.array(df_val['Labels'].values)\n",
        "print(Counter(y_val))\n",
        "print(y_val.shape)"
      ]
    },
    {
      "cell_type": "code",
      "execution_count": null,
      "metadata": {
        "colab": {
          "base_uri": "https://localhost:8080/"
        },
        "id": "QfvEVGIQhIr2",
        "outputId": "d8bdd74f-f90d-4a7b-bed2-41a37b8fdd80"
      },
      "outputs": [
        {
          "output_type": "execute_result",
          "data": {
            "text/plain": [
              "array([5, 4, 2, ..., 4, 4, 2])"
            ]
          },
          "metadata": {},
          "execution_count": 11
        }
      ],
      "source": [
        "#label encoding\n",
        "label_encoder = preprocessing.LabelEncoder()\n",
        "y_train = label_encoder.fit_transform(y_train)\n",
        "y_val = label_encoder.fit_transform(y_val)\n",
        "y_train"
      ]
    },
    {
      "cell_type": "markdown",
      "metadata": {
        "id": "uZv-B-ygCD57"
      },
      "source": [
        "#SMOTE Oversampling"
      ]
    },
    {
      "cell_type": "code",
      "execution_count": null,
      "metadata": {
        "id": "RDskF1wjGffh"
      },
      "outputs": [],
      "source": [
        "def SMOTE_Data(X, y):\n",
        "  sm = SMOTE(random_state=42, k_neighbors=5)\n",
        "  X_resampled, y_resampled = sm.fit_resample(X.reshape((-1, IMAGE_W * IMAGE_H * 3)), y)\n",
        "  X_resampled.reshape(-1, IMAGE_W, IMAGE_H, 3)\n",
        "  return X_resampled, y_resampled"
      ]
    },
    {
      "cell_type": "code",
      "execution_count": null,
      "metadata": {
        "colab": {
          "base_uri": "https://localhost:8080/"
        },
        "id": "brshqGvOCDJL",
        "outputId": "163c70a0-6314-4888-fba5-8f1c703cd79d"
      },
      "outputs": [
        {
          "output_type": "stream",
          "name": "stdout",
          "text": [
            "(14077, 150528)\n",
            "(14077,)\n"
          ]
        }
      ],
      "source": [
        "X_train, y_train = SMOTE_Data(X_train, y_train) #beware of the actual parameter\n",
        "print(X_train.shape)\n",
        "print(y_train.shape)"
      ]
    },
    {
      "cell_type": "code",
      "execution_count": null,
      "metadata": {
        "colab": {
          "base_uri": "https://localhost:8080/"
        },
        "id": "8GfOtcbV5vVZ",
        "outputId": "0e662fcb-0fc2-44ed-b357-45175b473130"
      },
      "outputs": [
        {
          "output_type": "stream",
          "name": "stdout",
          "text": [
            "Counter({5: 2011, 4: 2011, 2: 2011, 3: 2011, 0: 2011, 1: 2011, 6: 2011})\n"
          ]
        }
      ],
      "source": [
        "counter = Counter(y_train)\n",
        "print(counter)"
      ]
    },
    {
      "cell_type": "code",
      "execution_count": null,
      "metadata": {
        "colab": {
          "base_uri": "https://localhost:8080/"
        },
        "id": "dl-nmACZOZpg",
        "outputId": "7768981d-15fb-45c0-9d8d-d02dcc4c3118"
      },
      "outputs": [
        {
          "output_type": "stream",
          "name": "stdout",
          "text": [
            "X_train shape:  (14077, 224, 224, 3)\n"
          ]
        }
      ],
      "source": [
        "X_train = X_train.reshape(-1, IMAGE_W, IMAGE_H, 3)\n",
        "print('X_train shape: ',X_train.shape)"
      ]
    },
    {
      "cell_type": "markdown",
      "metadata": {
        "id": "cNBXx28B9yGu"
      },
      "source": [
        "#DeepSMOTE Oversampling"
      ]
    },
    {
      "cell_type": "code",
      "execution_count": null,
      "metadata": {
        "id": "RAxUkXy8ueYG"
      },
      "outputs": [],
      "source": [
        "#Normalization\n",
        "#X_train_mean = np.mean(X_train)\n",
        "#X_train_std = np.std(X_train)\n",
        "\n",
        "#X_train = (X_train - X_train_mean)/X_train_std\n",
        "#X_val = (X_val - X_train_mean)/X_train_std"
      ]
    },
    {
      "cell_type": "code",
      "execution_count": null,
      "metadata": {
        "id": "h-Xqj-WQ90L_"
      },
      "outputs": [],
      "source": [
        "#optional\n",
        "#X=X_train\n",
        "#y=y_train\n",
        "\n",
        "from numpy import moveaxis\n",
        "X_train = moveaxis(X_train, 3, 1)\n",
        "X_train = X_train.astype('float32') / 255.\n",
        "#dec_x = X_train \n",
        "#dec_y = y\n",
        "\n",
        "#create counter for encoder\n",
        "counter = sorted(counter.items())\n",
        "counter = [value for _, value in counter]"
      ]
    },
    {
      "cell_type": "code",
      "execution_count": null,
      "metadata": {
        "colab": {
          "base_uri": "https://localhost:8080/"
        },
        "id": "0kMMmX7r-fV5",
        "outputId": "d2d4a417-d152-4fd7-c6a4-1c4f7366bf4e"
      },
      "outputs": [
        {
          "output_type": "stream",
          "name": "stdout",
          "text": [
            "11.3\n"
          ]
        }
      ],
      "source": [
        "import torch\n",
        "import torch.nn as nn\n",
        "from torch.utils.data import TensorDataset\n",
        "from sklearn.neighbors import NearestNeighbors\n",
        "import time\n",
        "import os\n",
        "\n",
        "print(torch.version.cuda) #10.1\n",
        "\n",
        "args = {}\n",
        "args['dim_h'] = 64         # factor controlling size of hidden layers\n",
        "args['n_channel'] = 3#1    # number of channels in the input data \n",
        "\n",
        "args['n_z'] = 600 #300     # number of dimensions in latent space. \n",
        "\n",
        "args['sigma'] = 1.0        # variance in n_z\n",
        "args['lambda'] = 0.01      # hyper param for weight of discriminator loss\n",
        "args['lr'] = 0.0002        # learning rate for Adam optimizer .000\n",
        "args['epochs'] = 300       # how many epochs to run for\n",
        "args['batch_size'] = 100   # batch size for SGD\n",
        "args['save'] = True        # save weights at each epoch of training if True\n",
        "args['train'] = True       # train networks if True, else load networks from\n",
        "\n",
        "args['patience'] = 20\n",
        "\n",
        "## create encoder model and decoder model\n",
        "class Encoder(nn.Module):\n",
        "    def __init__(self, args):\n",
        "        super(Encoder, self).__init__()\n",
        "\n",
        "        self.n_channel = args['n_channel']\n",
        "        self.dim_h = args['dim_h']\n",
        "        self.n_z = args['n_z']\n",
        "        \n",
        "        # convolutional filters, work excellent with image data\n",
        "        # [(W−K+2P)/S]+1\n",
        "        self.conv = nn.Sequential(\n",
        "            nn.Conv2d(self.n_channel, self.dim_h, 4, 2, 1, bias=False),# 16\n",
        "            nn.LeakyReLU(0.2, inplace=True),\n",
        "            nn.Conv2d(self.dim_h, self.dim_h * 2, 4, 2, 1, bias=False), # 8\n",
        "            nn.BatchNorm2d(self.dim_h * 2),\n",
        "            nn.LeakyReLU(0.2, inplace=True),\n",
        "            nn.Conv2d(self.dim_h * 2, self.dim_h * 4, 4, 2, 1, bias=False),# 4\n",
        "            nn.BatchNorm2d(self.dim_h * 4),\n",
        "            nn.LeakyReLU(0.2, inplace=True),\n",
        "            nn.Conv2d(self.dim_h * 4, self.dim_h * 8, 4, 2, 0, bias=False),#14\n",
        "            nn.BatchNorm2d(self.dim_h * 8),\n",
        "            nn.LeakyReLU(0.2, inplace=True))\n",
        "        self.fc = nn.Linear(self.dim_h * (2 ** 3), self.n_z)\n",
        "\n",
        "    def forward(self, x):\n",
        "        x = self.conv(x)\n",
        "        \n",
        "        x = x.squeeze()\n",
        "        x = self.fc(x)\n",
        "        return x\n",
        "\n",
        "\n",
        "class Decoder(nn.Module):\n",
        "    def __init__(self, args):\n",
        "        super(Decoder, self).__init__()\n",
        "\n",
        "        self.n_channel = args['n_channel']\n",
        "        self.dim_h = args['dim_h']\n",
        "        self.n_z = args['n_z']\n",
        "\n",
        "        # first layer is fully connected\n",
        "        self.fc = nn.Sequential(\n",
        "            nn.Linear(self.n_z, self.dim_h * 2**3 * 7 * 7),\n",
        "            nn.ReLU())\n",
        "\n",
        "        # deconvolutional filters, essentially inverse of convolutional filters\n",
        "        # H_out ​= (H_in​−1)*stride[0] − 2×padding[0] + dilation[0]×(kernel_size[0]−1) + output_padding[0] + 1\n",
        "        self.deconv = nn.Sequential(\n",
        "            nn.ConvTranspose2d(self.dim_h * 8, self.dim_h * 4, 4), #10\n",
        "            nn.BatchNorm2d(self.dim_h * 4),\n",
        "            nn.ReLU(True),\n",
        "            nn.ConvTranspose2d(self.dim_h * 4, self.dim_h * 2, 4), #13\n",
        "            nn.BatchNorm2d(self.dim_h * 2),\n",
        "            nn.ReLU(True),\n",
        "            nn.ConvTranspose2d(self.dim_h * 2, self.dim_h, 4),# 16\n",
        "            nn.BatchNorm2d(self.dim_h),\n",
        "            nn.ReLU(True),\n",
        "            nn.ConvTranspose2d(self.dim_h, 3, 4, 2, 1),# 32\n",
        "            #nn.Sigmoid())\n",
        "            nn.Tanh())\n",
        "\n",
        "    def forward(self, x):\n",
        "        #print('dec')\n",
        "        #print('input ',x.size())\n",
        "        x = self.fc(x)\n",
        "        x = x.view(-1, self.dim_h * 2**3, 7, 7)\n",
        "        x = self.deconv(x)\n",
        "        return x\n",
        "\n",
        "##############################################################################\n",
        "\"\"\"set models, loss functions\"\"\"\n",
        "# control which parameters are frozen / free for optimization\n",
        "def free_params(module: nn.Module):\n",
        "    for p in module.parameters():\n",
        "        p.requires_grad = True\n",
        "\n",
        "def frozen_params(module: nn.Module):\n",
        "    for p in module.parameters():\n",
        "        p.requires_grad = False\n",
        "\n",
        "\n",
        "##############################################################################\n",
        "\"\"\"functions to create SMOTE images\"\"\"\n",
        "\n",
        "def biased_get_class(X, y, c):\n",
        "    \n",
        "    xbeg = X[y == c]\n",
        "    ybeg = y[y == c]\n",
        "    \n",
        "    return xbeg, ybeg\n",
        "    #return xclass, yclass\n",
        "\n",
        "\n",
        "def G_SM(X, y,n_to_sample,cl):\n",
        "\n",
        "    # determining the number of samples to generate\n",
        "    #n_to_sample = 10 \n",
        "\n",
        "    # fitting the model\n",
        "    n_neigh = 5\n",
        "    nn = NearestNeighbors(n_neighbors=n_neigh, n_jobs=1)\n",
        "    nn.fit(X)\n",
        "    dist, ind = nn.kneighbors(X)\n",
        "\n",
        "    # generating samples\n",
        "    base_indices = np.random.choice(list(range(len(X))),n_to_sample)\n",
        "    neighbor_indices = np.random.choice(list(range(1, n_neigh)),n_to_sample)\n",
        "\n",
        "    X_base = X[base_indices]\n",
        "    X_neighbor = X[ind[base_indices, neighbor_indices]]\n",
        "\n",
        "    samples = X_base + np.multiply(np.random.rand(n_to_sample,1),\n",
        "            X_neighbor - X_base)\n",
        "\n",
        "    #use 10 as label because 0 to 9 real classes and 1 fake/smoted = 10\n",
        "    return samples, [cl]*n_to_sample\n",
        "\n",
        "#xsamp, ysamp = SM(xclass,yclass)"
      ]
    },
    {
      "cell_type": "code",
      "execution_count": null,
      "metadata": {
        "colab": {
          "base_uri": "https://localhost:8080/"
        },
        "id": "oHtLISURIMTg",
        "outputId": "ecab946d-c415-4d00-8294-34cca661a9d1"
      },
      "outputs": [
        {
          "output_type": "stream",
          "name": "stdout",
          "text": [
            "cuda\n",
            "Epoch: 0 \tTrain Loss: 26.939857 \tmse loss: 12.999984 \tmse2 loss: 13.939873\n",
            "Saving..\n",
            "Epoch: 1 \tTrain Loss: 4.332313 \tmse loss: 1.936372 \tmse2 loss: 2.395941\n",
            "Saving..\n",
            "Epoch: 2 \tTrain Loss: 2.459624 \tmse loss: 1.116804 \tmse2 loss: 1.342820\n",
            "Saving..\n",
            "Epoch: 3 \tTrain Loss: 2.434667 \tmse loss: 1.174978 \tmse2 loss: 1.259688\n",
            "Saving..\n",
            "Epoch: 4 \tTrain Loss: 1.587828 \tmse loss: 0.748689 \tmse2 loss: 0.839139\n",
            "Saving..\n",
            "Epoch: 5 \tTrain Loss: 1.354152 \tmse loss: 0.636336 \tmse2 loss: 0.717816\n",
            "Saving..\n",
            "Epoch: 6 \tTrain Loss: 1.211460 \tmse loss: 0.556055 \tmse2 loss: 0.655404\n",
            "Saving..\n",
            "Epoch: 7 \tTrain Loss: 1.078982 \tmse loss: 0.484661 \tmse2 loss: 0.594321\n",
            "Saving..\n",
            "Epoch: 8 \tTrain Loss: 0.949178 \tmse loss: 0.439451 \tmse2 loss: 0.509727\n",
            "Saving..\n",
            "Epoch: 9 \tTrain Loss: 0.955951 \tmse loss: 0.446710 \tmse2 loss: 0.509241\n",
            "Epoch: 10 \tTrain Loss: 0.854318 \tmse loss: 0.394892 \tmse2 loss: 0.459426\n",
            "Saving..\n",
            "Epoch: 11 \tTrain Loss: 0.802193 \tmse loss: 0.364016 \tmse2 loss: 0.438177\n",
            "Saving..\n",
            "Epoch: 12 \tTrain Loss: 0.780730 \tmse loss: 0.359180 \tmse2 loss: 0.421550\n",
            "Saving..\n",
            "Epoch: 13 \tTrain Loss: 0.752274 \tmse loss: 0.346322 \tmse2 loss: 0.405952\n",
            "Saving..\n",
            "Epoch: 14 \tTrain Loss: 0.723504 \tmse loss: 0.320666 \tmse2 loss: 0.402838\n",
            "Saving..\n",
            "Epoch: 15 \tTrain Loss: 0.680636 \tmse loss: 0.305272 \tmse2 loss: 0.375364\n",
            "Saving..\n",
            "Epoch: 16 \tTrain Loss: 0.636452 \tmse loss: 0.292413 \tmse2 loss: 0.344039\n",
            "Saving..\n",
            "Epoch: 17 \tTrain Loss: 0.646569 \tmse loss: 0.284646 \tmse2 loss: 0.361923\n",
            "Epoch: 18 \tTrain Loss: 0.607864 \tmse loss: 0.277665 \tmse2 loss: 0.330198\n",
            "Saving..\n",
            "Epoch: 19 \tTrain Loss: 0.628598 \tmse loss: 0.271915 \tmse2 loss: 0.356683\n",
            "Epoch: 20 \tTrain Loss: 0.582115 \tmse loss: 0.256695 \tmse2 loss: 0.325421\n",
            "Saving..\n",
            "Epoch: 21 \tTrain Loss: 0.549997 \tmse loss: 0.249293 \tmse2 loss: 0.300704\n",
            "Saving..\n",
            "Epoch: 22 \tTrain Loss: 0.513756 \tmse loss: 0.250082 \tmse2 loss: 0.263674\n",
            "Saving..\n",
            "Epoch: 23 \tTrain Loss: 0.528917 \tmse loss: 0.248216 \tmse2 loss: 0.280701\n",
            "Epoch: 24 \tTrain Loss: 0.530828 \tmse loss: 0.238346 \tmse2 loss: 0.292482\n",
            "Epoch: 25 \tTrain Loss: 0.522778 \tmse loss: 0.239383 \tmse2 loss: 0.283395\n",
            "Epoch: 26 \tTrain Loss: 0.473796 \tmse loss: 0.221882 \tmse2 loss: 0.251914\n",
            "Saving..\n",
            "Epoch: 27 \tTrain Loss: 0.471012 \tmse loss: 0.229394 \tmse2 loss: 0.241618\n",
            "Saving..\n",
            "Epoch: 28 \tTrain Loss: 0.479590 \tmse loss: 0.225248 \tmse2 loss: 0.254343\n",
            "Epoch: 29 \tTrain Loss: 0.535110 \tmse loss: 0.240045 \tmse2 loss: 0.295065\n",
            "Epoch: 30 \tTrain Loss: 0.492299 \tmse loss: 0.218772 \tmse2 loss: 0.273527\n",
            "Epoch: 31 \tTrain Loss: 0.478801 \tmse loss: 0.207608 \tmse2 loss: 0.271193\n",
            "Epoch: 32 \tTrain Loss: 0.491178 \tmse loss: 0.226480 \tmse2 loss: 0.264698\n",
            "Epoch: 33 \tTrain Loss: 0.474293 \tmse loss: 0.215893 \tmse2 loss: 0.258401\n",
            "Epoch: 34 \tTrain Loss: 0.450105 \tmse loss: 0.201736 \tmse2 loss: 0.248369\n",
            "Saving..\n",
            "Epoch: 35 \tTrain Loss: 0.420501 \tmse loss: 0.191571 \tmse2 loss: 0.228931\n",
            "Saving..\n",
            "Epoch: 36 \tTrain Loss: 0.401345 \tmse loss: 0.188063 \tmse2 loss: 0.213282\n",
            "Saving..\n",
            "Epoch: 37 \tTrain Loss: 0.426655 \tmse loss: 0.196958 \tmse2 loss: 0.229696\n",
            "Epoch: 38 \tTrain Loss: 0.415569 \tmse loss: 0.192968 \tmse2 loss: 0.222600\n",
            "Epoch: 39 \tTrain Loss: 0.392865 \tmse loss: 0.182207 \tmse2 loss: 0.210658\n",
            "Saving..\n",
            "Epoch: 40 \tTrain Loss: 0.414152 \tmse loss: 0.197130 \tmse2 loss: 0.217022\n",
            "Epoch: 41 \tTrain Loss: 0.398826 \tmse loss: 0.180973 \tmse2 loss: 0.217853\n",
            "Epoch: 42 \tTrain Loss: 0.404573 \tmse loss: 0.179798 \tmse2 loss: 0.224775\n",
            "Epoch: 43 \tTrain Loss: 0.404699 \tmse loss: 0.188392 \tmse2 loss: 0.216307\n",
            "Epoch: 44 \tTrain Loss: 0.383271 \tmse loss: 0.171818 \tmse2 loss: 0.211452\n",
            "Saving..\n",
            "Epoch: 45 \tTrain Loss: 0.408562 \tmse loss: 0.187270 \tmse2 loss: 0.221292\n",
            "Epoch: 46 \tTrain Loss: 0.452194 \tmse loss: 0.207740 \tmse2 loss: 0.244454\n",
            "Epoch: 47 \tTrain Loss: 0.406737 \tmse loss: 0.191076 \tmse2 loss: 0.215661\n",
            "Epoch: 48 \tTrain Loss: 0.399795 \tmse loss: 0.187954 \tmse2 loss: 0.211842\n",
            "Epoch: 49 \tTrain Loss: 0.388795 \tmse loss: 0.172251 \tmse2 loss: 0.216544\n",
            "Epoch: 50 \tTrain Loss: 0.359753 \tmse loss: 0.164466 \tmse2 loss: 0.195287\n",
            "Saving..\n",
            "Epoch: 51 \tTrain Loss: 0.365390 \tmse loss: 0.166170 \tmse2 loss: 0.199220\n",
            "Epoch: 52 \tTrain Loss: 0.367498 \tmse loss: 0.166291 \tmse2 loss: 0.201206\n",
            "Epoch: 53 \tTrain Loss: 0.333933 \tmse loss: 0.156079 \tmse2 loss: 0.177854\n",
            "Saving..\n",
            "Epoch: 54 \tTrain Loss: 0.314647 \tmse loss: 0.150677 \tmse2 loss: 0.163969\n",
            "Saving..\n",
            "Epoch: 55 \tTrain Loss: 0.355113 \tmse loss: 0.163849 \tmse2 loss: 0.191264\n",
            "Epoch: 56 \tTrain Loss: 0.356469 \tmse loss: 0.158012 \tmse2 loss: 0.198458\n",
            "Epoch: 57 \tTrain Loss: 0.349942 \tmse loss: 0.155620 \tmse2 loss: 0.194322\n",
            "Epoch: 58 \tTrain Loss: 0.358376 \tmse loss: 0.161241 \tmse2 loss: 0.197134\n",
            "Epoch: 59 \tTrain Loss: 0.306350 \tmse loss: 0.147252 \tmse2 loss: 0.159098\n",
            "Saving..\n",
            "Epoch: 60 \tTrain Loss: 0.321873 \tmse loss: 0.148907 \tmse2 loss: 0.172967\n",
            "Epoch: 61 \tTrain Loss: 0.376563 \tmse loss: 0.178515 \tmse2 loss: 0.198048\n",
            "Epoch: 62 \tTrain Loss: 0.332952 \tmse loss: 0.156828 \tmse2 loss: 0.176125\n",
            "Epoch: 63 \tTrain Loss: 0.317649 \tmse loss: 0.153005 \tmse2 loss: 0.164645\n",
            "Epoch: 64 \tTrain Loss: 0.349088 \tmse loss: 0.157273 \tmse2 loss: 0.191815\n",
            "Epoch: 65 \tTrain Loss: 0.304373 \tmse loss: 0.147733 \tmse2 loss: 0.156640\n",
            "Saving..\n",
            "Epoch: 66 \tTrain Loss: 0.318132 \tmse loss: 0.149027 \tmse2 loss: 0.169104\n",
            "Epoch: 67 \tTrain Loss: 0.303848 \tmse loss: 0.144276 \tmse2 loss: 0.159572\n",
            "Saving..\n",
            "Epoch: 68 \tTrain Loss: 0.321813 \tmse loss: 0.145808 \tmse2 loss: 0.176005\n",
            "Epoch: 69 \tTrain Loss: 0.300919 \tmse loss: 0.141191 \tmse2 loss: 0.159729\n",
            "Saving..\n",
            "Epoch: 70 \tTrain Loss: 0.319766 \tmse loss: 0.152628 \tmse2 loss: 0.167138\n",
            "Epoch: 71 \tTrain Loss: 0.297812 \tmse loss: 0.140918 \tmse2 loss: 0.156895\n",
            "Saving..\n",
            "Epoch: 72 \tTrain Loss: 0.284619 \tmse loss: 0.136349 \tmse2 loss: 0.148270\n",
            "Saving..\n",
            "Epoch: 73 \tTrain Loss: 0.289072 \tmse loss: 0.138685 \tmse2 loss: 0.150387\n",
            "Epoch: 74 \tTrain Loss: 0.277305 \tmse loss: 0.136596 \tmse2 loss: 0.140709\n",
            "Saving..\n",
            "Epoch: 75 \tTrain Loss: 0.275750 \tmse loss: 0.132060 \tmse2 loss: 0.143689\n",
            "Saving..\n",
            "Epoch: 76 \tTrain Loss: 0.267919 \tmse loss: 0.127332 \tmse2 loss: 0.140587\n",
            "Saving..\n",
            "Epoch: 77 \tTrain Loss: 0.284240 \tmse loss: 0.130433 \tmse2 loss: 0.153808\n",
            "Epoch: 78 \tTrain Loss: 0.258755 \tmse loss: 0.124608 \tmse2 loss: 0.134147\n",
            "Saving..\n",
            "Epoch: 79 \tTrain Loss: 0.254834 \tmse loss: 0.123712 \tmse2 loss: 0.131122\n",
            "Saving..\n",
            "Epoch: 80 \tTrain Loss: 0.270317 \tmse loss: 0.132339 \tmse2 loss: 0.137978\n",
            "Epoch: 81 \tTrain Loss: 0.280254 \tmse loss: 0.134518 \tmse2 loss: 0.145736\n",
            "Epoch: 82 \tTrain Loss: 0.254756 \tmse loss: 0.120378 \tmse2 loss: 0.134379\n",
            "Saving..\n",
            "Epoch: 83 \tTrain Loss: 0.271754 \tmse loss: 0.132475 \tmse2 loss: 0.139279\n",
            "Epoch: 84 \tTrain Loss: 0.283890 \tmse loss: 0.132562 \tmse2 loss: 0.151328\n",
            "Epoch: 85 \tTrain Loss: 0.249241 \tmse loss: 0.120440 \tmse2 loss: 0.128802\n",
            "Saving..\n",
            "Epoch: 86 \tTrain Loss: 0.250173 \tmse loss: 0.121326 \tmse2 loss: 0.128847\n",
            "Epoch: 87 \tTrain Loss: 0.247908 \tmse loss: 0.122021 \tmse2 loss: 0.125887\n",
            "Saving..\n",
            "Epoch: 88 \tTrain Loss: 0.252542 \tmse loss: 0.121219 \tmse2 loss: 0.131323\n",
            "Epoch: 89 \tTrain Loss: 0.255151 \tmse loss: 0.123959 \tmse2 loss: 0.131191\n",
            "Epoch: 90 \tTrain Loss: 0.263805 \tmse loss: 0.124644 \tmse2 loss: 0.139161\n",
            "Epoch: 91 \tTrain Loss: 0.250828 \tmse loss: 0.119322 \tmse2 loss: 0.131506\n",
            "Epoch: 92 \tTrain Loss: 0.235706 \tmse loss: 0.116124 \tmse2 loss: 0.119582\n",
            "Saving..\n",
            "Epoch: 93 \tTrain Loss: 0.237952 \tmse loss: 0.121197 \tmse2 loss: 0.116755\n",
            "Epoch: 94 \tTrain Loss: 0.235363 \tmse loss: 0.116698 \tmse2 loss: 0.118664\n",
            "Saving..\n",
            "Epoch: 95 \tTrain Loss: 0.225606 \tmse loss: 0.110655 \tmse2 loss: 0.114950\n",
            "Saving..\n",
            "Epoch: 96 \tTrain Loss: 0.223441 \tmse loss: 0.108403 \tmse2 loss: 0.115037\n",
            "Saving..\n",
            "Epoch: 97 \tTrain Loss: 0.243218 \tmse loss: 0.117728 \tmse2 loss: 0.125490\n",
            "Epoch: 98 \tTrain Loss: 0.252647 \tmse loss: 0.119698 \tmse2 loss: 0.132948\n",
            "Epoch: 99 \tTrain Loss: 0.235662 \tmse loss: 0.113022 \tmse2 loss: 0.122641\n",
            "Epoch: 100 \tTrain Loss: 0.240458 \tmse loss: 0.120265 \tmse2 loss: 0.120193\n",
            "Epoch: 101 \tTrain Loss: 0.218524 \tmse loss: 0.105709 \tmse2 loss: 0.112815\n",
            "Saving..\n",
            "Epoch: 102 \tTrain Loss: 0.226160 \tmse loss: 0.116071 \tmse2 loss: 0.110089\n",
            "Epoch: 103 \tTrain Loss: 0.213329 \tmse loss: 0.107222 \tmse2 loss: 0.106107\n",
            "Saving..\n",
            "Epoch: 104 \tTrain Loss: 0.214699 \tmse loss: 0.108717 \tmse2 loss: 0.105982\n",
            "Epoch: 105 \tTrain Loss: 0.232200 \tmse loss: 0.110368 \tmse2 loss: 0.121831\n",
            "Epoch: 106 \tTrain Loss: 0.221518 \tmse loss: 0.109517 \tmse2 loss: 0.112001\n",
            "Epoch: 107 \tTrain Loss: 0.217266 \tmse loss: 0.110333 \tmse2 loss: 0.106933\n",
            "Epoch: 108 \tTrain Loss: 0.227040 \tmse loss: 0.107363 \tmse2 loss: 0.119677\n",
            "Epoch: 109 \tTrain Loss: 0.210115 \tmse loss: 0.104861 \tmse2 loss: 0.105254\n",
            "Saving..\n",
            "Epoch: 110 \tTrain Loss: 0.204399 \tmse loss: 0.101225 \tmse2 loss: 0.103174\n",
            "Saving..\n",
            "Epoch: 111 \tTrain Loss: 0.223004 \tmse loss: 0.111723 \tmse2 loss: 0.111281\n",
            "Epoch: 112 \tTrain Loss: 0.209706 \tmse loss: 0.105252 \tmse2 loss: 0.104454\n",
            "Epoch: 113 \tTrain Loss: 0.213404 \tmse loss: 0.107517 \tmse2 loss: 0.105887\n",
            "Epoch: 114 \tTrain Loss: 0.222349 \tmse loss: 0.107812 \tmse2 loss: 0.114537\n",
            "Epoch: 115 \tTrain Loss: 0.205551 \tmse loss: 0.102470 \tmse2 loss: 0.103081\n",
            "Epoch: 116 \tTrain Loss: 0.193568 \tmse loss: 0.099493 \tmse2 loss: 0.094075\n",
            "Saving..\n",
            "Epoch: 117 \tTrain Loss: 0.204293 \tmse loss: 0.098891 \tmse2 loss: 0.105402\n",
            "Epoch: 118 \tTrain Loss: 0.207988 \tmse loss: 0.101869 \tmse2 loss: 0.106118\n",
            "Epoch: 119 \tTrain Loss: 0.201875 \tmse loss: 0.099795 \tmse2 loss: 0.102080\n",
            "Epoch: 120 \tTrain Loss: 0.193139 \tmse loss: 0.095450 \tmse2 loss: 0.097689\n",
            "Saving..\n",
            "Epoch: 121 \tTrain Loss: 0.206573 \tmse loss: 0.101016 \tmse2 loss: 0.105557\n",
            "Epoch: 122 \tTrain Loss: 0.205203 \tmse loss: 0.099682 \tmse2 loss: 0.105521\n",
            "Epoch: 123 \tTrain Loss: 0.209867 \tmse loss: 0.100956 \tmse2 loss: 0.108911\n",
            "Epoch: 124 \tTrain Loss: 0.187195 \tmse loss: 0.094672 \tmse2 loss: 0.092524\n",
            "Saving..\n",
            "Epoch: 125 \tTrain Loss: 0.181811 \tmse loss: 0.094010 \tmse2 loss: 0.087801\n",
            "Saving..\n",
            "Epoch: 126 \tTrain Loss: 0.180333 \tmse loss: 0.091650 \tmse2 loss: 0.088684\n",
            "Saving..\n",
            "Epoch: 127 \tTrain Loss: 0.215400 \tmse loss: 0.105901 \tmse2 loss: 0.109499\n",
            "Epoch: 128 \tTrain Loss: 0.200484 \tmse loss: 0.101456 \tmse2 loss: 0.099028\n",
            "Epoch: 129 \tTrain Loss: 0.188992 \tmse loss: 0.094078 \tmse2 loss: 0.094914\n",
            "Epoch: 130 \tTrain Loss: 0.189343 \tmse loss: 0.093944 \tmse2 loss: 0.095398\n",
            "Epoch: 131 \tTrain Loss: 0.183542 \tmse loss: 0.093675 \tmse2 loss: 0.089867\n",
            "Epoch: 132 \tTrain Loss: 0.190231 \tmse loss: 0.098905 \tmse2 loss: 0.091326\n",
            "Epoch: 133 \tTrain Loss: 0.194627 \tmse loss: 0.096995 \tmse2 loss: 0.097631\n",
            "Epoch: 134 \tTrain Loss: 0.176772 \tmse loss: 0.089412 \tmse2 loss: 0.087359\n",
            "Saving..\n",
            "Epoch: 135 \tTrain Loss: 0.172298 \tmse loss: 0.086339 \tmse2 loss: 0.085959\n",
            "Saving..\n",
            "Epoch: 136 \tTrain Loss: 0.184265 \tmse loss: 0.090309 \tmse2 loss: 0.093955\n",
            "Epoch: 137 \tTrain Loss: 0.220227 \tmse loss: 0.112629 \tmse2 loss: 0.107598\n",
            "Epoch: 138 \tTrain Loss: 0.190518 \tmse loss: 0.098263 \tmse2 loss: 0.092255\n",
            "Epoch: 139 \tTrain Loss: 0.190471 \tmse loss: 0.096479 \tmse2 loss: 0.093992\n",
            "Epoch: 140 \tTrain Loss: 0.191630 \tmse loss: 0.097725 \tmse2 loss: 0.093905\n",
            "Epoch: 141 \tTrain Loss: 0.175979 \tmse loss: 0.090326 \tmse2 loss: 0.085653\n",
            "Epoch: 142 \tTrain Loss: 0.171889 \tmse loss: 0.089637 \tmse2 loss: 0.082252\n",
            "Saving..\n",
            "Epoch: 143 \tTrain Loss: 0.164420 \tmse loss: 0.083950 \tmse2 loss: 0.080470\n",
            "Saving..\n",
            "Epoch: 144 \tTrain Loss: 0.158113 \tmse loss: 0.079717 \tmse2 loss: 0.078396\n",
            "Saving..\n",
            "Epoch: 145 \tTrain Loss: 0.163617 \tmse loss: 0.085805 \tmse2 loss: 0.077812\n",
            "Epoch: 146 \tTrain Loss: 0.165410 \tmse loss: 0.082381 \tmse2 loss: 0.083030\n",
            "Epoch: 147 \tTrain Loss: 0.169392 \tmse loss: 0.087005 \tmse2 loss: 0.082387\n",
            "Epoch: 148 \tTrain Loss: 0.171356 \tmse loss: 0.087881 \tmse2 loss: 0.083475\n",
            "Epoch: 149 \tTrain Loss: 0.154551 \tmse loss: 0.081461 \tmse2 loss: 0.073090\n",
            "Saving..\n",
            "Epoch: 150 \tTrain Loss: 0.159795 \tmse loss: 0.081762 \tmse2 loss: 0.078033\n",
            "Epoch: 151 \tTrain Loss: 0.153171 \tmse loss: 0.079542 \tmse2 loss: 0.073630\n",
            "Saving..\n",
            "Epoch: 152 \tTrain Loss: 0.164346 \tmse loss: 0.083188 \tmse2 loss: 0.081159\n",
            "Epoch: 153 \tTrain Loss: 0.162565 \tmse loss: 0.083300 \tmse2 loss: 0.079265\n",
            "Epoch: 154 \tTrain Loss: 0.162003 \tmse loss: 0.084132 \tmse2 loss: 0.077871\n",
            "Epoch: 155 \tTrain Loss: 0.143416 \tmse loss: 0.077383 \tmse2 loss: 0.066033\n",
            "Saving..\n",
            "Epoch: 156 \tTrain Loss: 0.172927 \tmse loss: 0.086680 \tmse2 loss: 0.086247\n",
            "Epoch: 157 \tTrain Loss: 0.164367 \tmse loss: 0.085154 \tmse2 loss: 0.079213\n",
            "Epoch: 158 \tTrain Loss: 0.148818 \tmse loss: 0.077301 \tmse2 loss: 0.071518\n",
            "Epoch: 159 \tTrain Loss: 0.144574 \tmse loss: 0.075852 \tmse2 loss: 0.068722\n",
            "Epoch: 160 \tTrain Loss: 0.156382 \tmse loss: 0.079640 \tmse2 loss: 0.076742\n",
            "Epoch: 161 \tTrain Loss: 0.144133 \tmse loss: 0.073112 \tmse2 loss: 0.071020\n",
            "Epoch: 162 \tTrain Loss: 0.152000 \tmse loss: 0.077211 \tmse2 loss: 0.074789\n",
            "Epoch: 163 \tTrain Loss: 0.135899 \tmse loss: 0.072839 \tmse2 loss: 0.063060\n",
            "Saving..\n",
            "Epoch: 164 \tTrain Loss: 0.144264 \tmse loss: 0.076167 \tmse2 loss: 0.068097\n",
            "Epoch: 165 \tTrain Loss: 0.142275 \tmse loss: 0.074845 \tmse2 loss: 0.067430\n",
            "Epoch: 166 \tTrain Loss: 0.146739 \tmse loss: 0.072571 \tmse2 loss: 0.074168\n",
            "Epoch: 167 \tTrain Loss: 0.153827 \tmse loss: 0.079231 \tmse2 loss: 0.074595\n",
            "Epoch: 168 \tTrain Loss: 0.140816 \tmse loss: 0.075587 \tmse2 loss: 0.065228\n",
            "Epoch: 169 \tTrain Loss: 0.133468 \tmse loss: 0.069169 \tmse2 loss: 0.064299\n",
            "Saving..\n",
            "Epoch: 170 \tTrain Loss: 0.140776 \tmse loss: 0.074897 \tmse2 loss: 0.065880\n",
            "Epoch: 171 \tTrain Loss: 0.140719 \tmse loss: 0.072340 \tmse2 loss: 0.068379\n",
            "Epoch: 172 \tTrain Loss: 0.143795 \tmse loss: 0.073846 \tmse2 loss: 0.069948\n",
            "Epoch: 173 \tTrain Loss: 0.138041 \tmse loss: 0.070877 \tmse2 loss: 0.067165\n",
            "Epoch: 174 \tTrain Loss: 0.140718 \tmse loss: 0.074095 \tmse2 loss: 0.066624\n",
            "Epoch: 175 \tTrain Loss: 0.170174 \tmse loss: 0.086143 \tmse2 loss: 0.084031\n",
            "Epoch: 176 \tTrain Loss: 0.152698 \tmse loss: 0.076544 \tmse2 loss: 0.076154\n",
            "Epoch: 177 \tTrain Loss: 0.145587 \tmse loss: 0.076143 \tmse2 loss: 0.069443\n",
            "Epoch: 178 \tTrain Loss: 0.144276 \tmse loss: 0.072065 \tmse2 loss: 0.072212\n",
            "Epoch: 179 \tTrain Loss: 0.140185 \tmse loss: 0.070854 \tmse2 loss: 0.069331\n",
            "Epoch: 180 \tTrain Loss: 0.132974 \tmse loss: 0.070668 \tmse2 loss: 0.062306\n",
            "Saving..\n",
            "Epoch: 181 \tTrain Loss: 0.141614 \tmse loss: 0.072122 \tmse2 loss: 0.069492\n",
            "Epoch: 182 \tTrain Loss: 0.134440 \tmse loss: 0.070645 \tmse2 loss: 0.063795\n",
            "Epoch: 183 \tTrain Loss: 0.161136 \tmse loss: 0.084270 \tmse2 loss: 0.076865\n",
            "Epoch: 184 \tTrain Loss: 0.138604 \tmse loss: 0.071803 \tmse2 loss: 0.066801\n",
            "Epoch: 185 \tTrain Loss: 0.140216 \tmse loss: 0.071562 \tmse2 loss: 0.068654\n",
            "Epoch: 186 \tTrain Loss: 0.129233 \tmse loss: 0.068445 \tmse2 loss: 0.060788\n",
            "Saving..\n",
            "Epoch: 187 \tTrain Loss: 0.135116 \tmse loss: 0.070008 \tmse2 loss: 0.065108\n",
            "Epoch: 188 \tTrain Loss: 0.130522 \tmse loss: 0.068552 \tmse2 loss: 0.061969\n",
            "Epoch: 189 \tTrain Loss: 0.123407 \tmse loss: 0.067837 \tmse2 loss: 0.055571\n",
            "Saving..\n",
            "Epoch: 190 \tTrain Loss: 0.141810 \tmse loss: 0.074883 \tmse2 loss: 0.066927\n",
            "Epoch: 191 \tTrain Loss: 0.127753 \tmse loss: 0.069059 \tmse2 loss: 0.058694\n",
            "Epoch: 192 \tTrain Loss: 0.145159 \tmse loss: 0.073288 \tmse2 loss: 0.071870\n",
            "Epoch: 193 \tTrain Loss: 0.123532 \tmse loss: 0.066131 \tmse2 loss: 0.057401\n",
            "Epoch: 194 \tTrain Loss: 0.120442 \tmse loss: 0.062671 \tmse2 loss: 0.057772\n",
            "Saving..\n",
            "Epoch: 195 \tTrain Loss: 0.123289 \tmse loss: 0.063424 \tmse2 loss: 0.059866\n",
            "Epoch: 196 \tTrain Loss: 0.119690 \tmse loss: 0.062785 \tmse2 loss: 0.056905\n",
            "Saving..\n",
            "Epoch: 197 \tTrain Loss: 0.118718 \tmse loss: 0.061307 \tmse2 loss: 0.057411\n",
            "Saving..\n",
            "Epoch: 198 \tTrain Loss: 0.112793 \tmse loss: 0.060872 \tmse2 loss: 0.051921\n",
            "Saving..\n",
            "Epoch: 199 \tTrain Loss: 0.118873 \tmse loss: 0.061590 \tmse2 loss: 0.057283\n",
            "Epoch: 200 \tTrain Loss: 0.122790 \tmse loss: 0.064302 \tmse2 loss: 0.058487\n",
            "Epoch: 201 \tTrain Loss: 0.138870 \tmse loss: 0.075155 \tmse2 loss: 0.063716\n",
            "Epoch: 202 \tTrain Loss: 0.125473 \tmse loss: 0.066051 \tmse2 loss: 0.059422\n",
            "Epoch: 203 \tTrain Loss: 0.129232 \tmse loss: 0.067512 \tmse2 loss: 0.061721\n",
            "Epoch: 204 \tTrain Loss: 0.117714 \tmse loss: 0.063202 \tmse2 loss: 0.054512\n",
            "Epoch: 205 \tTrain Loss: 0.124813 \tmse loss: 0.066390 \tmse2 loss: 0.058423\n",
            "Epoch: 206 \tTrain Loss: 0.124700 \tmse loss: 0.063061 \tmse2 loss: 0.061639\n",
            "Epoch: 207 \tTrain Loss: 0.118112 \tmse loss: 0.062169 \tmse2 loss: 0.055943\n",
            "Epoch: 208 \tTrain Loss: 0.114508 \tmse loss: 0.064026 \tmse2 loss: 0.050482\n",
            "Epoch: 209 \tTrain Loss: 0.112642 \tmse loss: 0.059850 \tmse2 loss: 0.052792\n",
            "Saving..\n",
            "Epoch: 210 \tTrain Loss: 0.107441 \tmse loss: 0.058300 \tmse2 loss: 0.049140\n",
            "Saving..\n",
            "Epoch: 211 \tTrain Loss: 0.116186 \tmse loss: 0.060158 \tmse2 loss: 0.056028\n",
            "Epoch: 212 \tTrain Loss: 0.111586 \tmse loss: 0.062891 \tmse2 loss: 0.048695\n",
            "Epoch: 213 \tTrain Loss: 0.119676 \tmse loss: 0.064050 \tmse2 loss: 0.055626\n",
            "Epoch: 214 \tTrain Loss: 0.119149 \tmse loss: 0.064143 \tmse2 loss: 0.055006\n",
            "Epoch: 215 \tTrain Loss: 0.124761 \tmse loss: 0.065640 \tmse2 loss: 0.059122\n",
            "Epoch: 216 \tTrain Loss: 0.110271 \tmse loss: 0.058148 \tmse2 loss: 0.052123\n",
            "Epoch: 217 \tTrain Loss: 0.113387 \tmse loss: 0.060331 \tmse2 loss: 0.053056\n",
            "Epoch: 218 \tTrain Loss: 0.154334 \tmse loss: 0.080316 \tmse2 loss: 0.074017\n",
            "Epoch: 219 \tTrain Loss: 0.116484 \tmse loss: 0.061123 \tmse2 loss: 0.055361\n",
            "Epoch: 220 \tTrain Loss: 0.113486 \tmse loss: 0.060070 \tmse2 loss: 0.053416\n",
            "Epoch: 221 \tTrain Loss: 0.126751 \tmse loss: 0.063531 \tmse2 loss: 0.063220\n",
            "Epoch: 222 \tTrain Loss: 0.113150 \tmse loss: 0.061101 \tmse2 loss: 0.052049\n",
            "Epoch: 223 \tTrain Loss: 0.111708 \tmse loss: 0.061240 \tmse2 loss: 0.050469\n",
            "Epoch: 224 \tTrain Loss: 0.110799 \tmse loss: 0.059742 \tmse2 loss: 0.051057\n",
            "Epoch: 225 \tTrain Loss: 0.123391 \tmse loss: 0.063920 \tmse2 loss: 0.059470\n",
            "Epoch: 226 \tTrain Loss: 0.116216 \tmse loss: 0.061123 \tmse2 loss: 0.055093\n",
            "Epoch: 227 \tTrain Loss: 0.111690 \tmse loss: 0.058960 \tmse2 loss: 0.052730\n",
            "Epoch: 228 \tTrain Loss: 0.124875 \tmse loss: 0.066435 \tmse2 loss: 0.058441\n",
            "Epoch: 229 \tTrain Loss: 0.113436 \tmse loss: 0.061217 \tmse2 loss: 0.052219\n",
            "Epoch: 230 \tTrain Loss: 0.114224 \tmse loss: 0.060316 \tmse2 loss: 0.053908\n",
            "Out of patience. \n",
            "\n"
          ]
        }
      ],
      "source": [
        "#Begin the training\n",
        "batch_size = args['batch_size']\n",
        "patience = args['patience']\n",
        "encoder = Encoder(args)\n",
        "decoder = Decoder(args)\n",
        "\n",
        "device = 'cuda' if torch.cuda.is_available() else 'cpu'\n",
        "print(device)\n",
        "decoder = decoder.to(device)\n",
        "encoder = encoder.to(device)\n",
        "\n",
        "train_on_gpu = torch.cuda.is_available()\n",
        "\n",
        "#decoder loss function\n",
        "criterion = nn.MSELoss()\n",
        "criterion = criterion.to(device)\n",
        "\n",
        "num_workers = 0\n",
        "\n",
        "#torch.Tensor returns float so if want long then use torch.tensor\n",
        "tensor_x = torch.Tensor(X_train)\n",
        "tensor_y = torch.tensor(y_train,dtype=torch.long)\n",
        "mnist_bal = TensorDataset(tensor_x,tensor_y) \n",
        "train_loader = torch.utils.data.DataLoader(mnist_bal, \n",
        "    batch_size=batch_size,shuffle=True,num_workers=num_workers)\n",
        "\n",
        "best_loss = np.inf\n",
        "\n",
        "t0 = time.time()\n",
        "if args['train']:\n",
        "    enc_optim = torch.optim.Adam(encoder.parameters(), lr = args['lr'])\n",
        "    dec_optim = torch.optim.Adam(decoder.parameters(), lr = args['lr'])\n",
        "\n",
        "    for epoch in range(args['epochs']):\n",
        "        train_loss = 0.0\n",
        "        tmse_loss = 0.0\n",
        "        tdiscr_loss = 0.0\n",
        "        # train for one epoch -- set nets to train mode\n",
        "        encoder.train()\n",
        "        decoder.train()\n",
        "    \n",
        "        for images,labs in train_loader:\n",
        "        \n",
        "            # zero gradients for each batch\n",
        "            encoder.zero_grad()\n",
        "            decoder.zero_grad()\n",
        "            images, labs = images.to(device), labs.to(device)\n",
        "            labsn = labs.detach().cpu().numpy()\n",
        "#            print('images shape', images.shape)\n",
        "            # run images\n",
        "            z_hat = encoder(images)\n",
        "#            print('images shape after encoding', z_hat.shape)\n",
        "        \n",
        "            x_hat = decoder(z_hat) #decoder outputs tanh\n",
        "#            print('images shape after decoding', x_hat.shape)\n",
        "            mse = criterion(x_hat,images)\n",
        "                    \n",
        "            resx = []\n",
        "            resy = []\n",
        "        \n",
        "            tc = np.random.choice(num_classes,1)\n",
        "            #tc = 9\n",
        "            xbeg = X_train[y_train == tc]\n",
        "            ybeg = y_train[y_train == tc] \n",
        "            xlen = len(xbeg)\n",
        "            nsamp = min(xlen, 100)\n",
        "            ind = np.random.choice(list(range(len(xbeg))),nsamp,replace=False)\n",
        "            xclass = xbeg[ind]\n",
        "            yclass = ybeg[ind]\n",
        "        \n",
        "            xclen = len(xclass)\n",
        "            xcminus = np.arange(1,xclen)\n",
        "            \n",
        "            xcplus = np.append(xcminus,0)\n",
        "            xcnew = (xclass[[xcplus],:])\n",
        "            xcnew = xcnew.reshape(xcnew.shape[1],xcnew.shape[2],xcnew.shape[3],xcnew.shape[4])\n",
        "        \n",
        "            xcnew = torch.Tensor(xcnew)\n",
        "            xcnew = xcnew.to(device)\n",
        "        \n",
        "            #encode xclass to feature space\n",
        "            xclass = torch.Tensor(xclass)\n",
        "            xclass = xclass.to(device)\n",
        "            xclass = encoder(xclass)\n",
        "        \n",
        "            xclass = xclass.detach().cpu().numpy()\n",
        "        \n",
        "            xc_enc = (xclass[[xcplus],:])\n",
        "            xc_enc = np.squeeze(xc_enc)\n",
        "        \n",
        "            xc_enc = torch.Tensor(xc_enc)\n",
        "            xc_enc = xc_enc.to(device)\n",
        "            \n",
        "            ximg = decoder(xc_enc)\n",
        "            \n",
        "            mse2 = criterion(ximg,xcnew)\n",
        "        \n",
        "            comb_loss = mse2 + mse\n",
        "            comb_loss.backward()\n",
        "        \n",
        "            enc_optim.step()\n",
        "            dec_optim.step()\n",
        "        \n",
        "            train_loss += comb_loss.item()*images.size(0)\n",
        "            tmse_loss += mse.item()*images.size(0)\n",
        "            tdiscr_loss += mse2.item()*images.size(0)\n",
        "\n",
        "        train_loss = train_loss/len(train_loader)\n",
        "        tmse_loss = tmse_loss/len(train_loader)\n",
        "        tdiscr_loss = tdiscr_loss/len(train_loader)\n",
        "        print('Epoch: {} \\tTrain Loss: {:.6f} \\tmse loss: {:.6f} \\tmse2 loss: {:.6f}'.format(epoch,\n",
        "                train_loss,tmse_loss,tdiscr_loss))\n",
        "        \n",
        "    \n",
        "    \n",
        "        #store the best encoder and decoder models\n",
        "        #here, /crs5 is a reference to 5 way cross validation, but is not\n",
        "        #necessary for illustration purposes\n",
        "        if train_loss < best_loss:\n",
        "            print('Saving..')\n",
        "            patience = args['patience']\n",
        "            path_enc = '/content/drive/MyDrive/PHD/Model/DeepSMOTE/32/bst_enc.pth'\n",
        "            path_dec = '/content/drive/MyDrive/PHD/Model/DeepSMOTE/32/bst_dec.pth'\n",
        "          \n",
        "            torch.save(encoder.state_dict(), path_enc)\n",
        "            torch.save(decoder.state_dict(), path_dec)\n",
        "    \n",
        "            best_loss = train_loss\n",
        "        else:\n",
        "            patience = patience - 1\n",
        "\n",
        "        if patience == 0:\n",
        "            print('Out of patience. \\n')\n",
        "            break\n",
        "    \n",
        "    \n",
        "    #in addition, store the final model (may not be the best) for\n",
        "    #informational purposes\n",
        "    #path_enc = '/content/drive/MyDrive/PHD/Model/DeepSMOTE/f_enc.pth'\n",
        "    #path_dec = '/content/drive/MyDrive/PHD/Model/DeepSMOTE/f_dec.pth'\n",
        "    #print(path_enc)\n",
        "    #print(path_dec)\n",
        "    #torch.save(encoder.state_dict(), path_enc)\n",
        "    #torch.save(decoder.state_dict(), path_dec)"
      ]
    },
    {
      "cell_type": "code",
      "execution_count": null,
      "metadata": {
        "id": "NoqPIVKqF5Ug",
        "colab": {
          "base_uri": "https://localhost:8080/"
        },
        "outputId": "c5f218d5-7316-4719-aa06-5ee78a1c742e"
      },
      "outputs": [
        {
          "output_type": "stream",
          "name": "stdout",
          "text": [
            "train imgs shape  (5321, 3, 32, 32)\n",
            "decy  (5321,)\n",
            "(14077, 3072)\n",
            "(14077,)\n"
          ]
        }
      ],
      "source": [
        "batch_size = args['batch_size']\n",
        "#Generate artificial images\n",
        "import torch\n",
        "np.printoptions(precision=5,suppress=True)\n",
        "\n",
        "#path on the computer where the models are stored\n",
        "modpth = '/content/drive/MyDrive/PHD/Model/DeepSMOTE/32/'\n",
        "\n",
        "encf = []\n",
        "decf = []\n",
        "for p in range(1):\n",
        "    enc = modpth + '/bst_enc.pth'\n",
        "    dec = modpth + '/bst_dec.pth'\n",
        "    encf.append(enc)\n",
        "    decf.append(dec)\n",
        "\n",
        "for m in range(1):\n",
        "    print('train imgs shape ',X_train.shape) #(45000,3,32,32)\n",
        "    print('decy ',y_train.shape)\n",
        "    \n",
        "    #generate some images \n",
        "    train_on_gpu = torch.cuda.is_available()\n",
        "    device = 'cuda' if torch.cuda.is_available() else 'cpu'\n",
        "    \n",
        "    path_enc = encf[m]\n",
        "    path_dec = decf[m]\n",
        "\n",
        "    encoder = Encoder(args)\n",
        "    encoder.load_state_dict(torch.load(path_enc), strict=False)\n",
        "    encoder = encoder.to(device)\n",
        "\n",
        "    decoder = Decoder(args)\n",
        "    decoder.load_state_dict(torch.load(path_dec), strict=False)\n",
        "    decoder = decoder.to(device)\n",
        "\n",
        "    encoder.eval()\n",
        "    decoder.eval()\n",
        "\n",
        "    resx = []\n",
        "    resy = []\n",
        "\n",
        "    for i in [0,1,2,3,4,6]: #skip class 5 since it's max class\n",
        "        torch.cuda.empty_cache()\n",
        "\n",
        "        xclass, yclass = biased_get_class(X_train, y_train, i)\n",
        "        #encode xclass to feature space\n",
        "        xclass = torch.Tensor(xclass)\n",
        "        xclass = xclass.to(device)\n",
        "        xclass = encoder(xclass)\n",
        "            \n",
        "        xclass = xclass.detach().cpu().numpy()\n",
        "        n = np.max(counter) - counter[i]\n",
        "#        resx2 = []\n",
        "#        resy2 = []\n",
        "#        for j in range(batch_size, n+batch_size+1, batch_size):\n",
        "#          if j <= n:\n",
        "#            batch_size_max = batch_size\n",
        "#          elif n % batch_size != 0:\n",
        "#            batch_size_max = n%batch_size\n",
        "#          else:\n",
        "#            break\n",
        "#          xsamp, ysamp = G_SM(xclass,yclass,batch_size_max,i)\n",
        "        xsamp, ysamp = G_SM(xclass,yclass,n,i)\n",
        "        ysamp = np.array(ysamp)\n",
        "    \n",
        "        \"\"\"to generate samples for resnet\"\"\"   \n",
        "        xsamp = torch.Tensor(xsamp)\n",
        "        xsamp = xsamp.to(device)\n",
        "        ximg = decoder(xsamp)\n",
        "\n",
        "        ximn = ximg.detach().cpu().numpy()\n",
        "#        resx2.append(ximn)\n",
        "#        resy2.append(ysamp)\n",
        "#        \n",
        "#        resx2 = np.vstack(resx2)\n",
        "#        resy2 = np.hstack(resy2)\n",
        "        resx.append(ximn)\n",
        "        resy.append(ysamp)\n",
        "    \n",
        "    resx1 = np.vstack(resx)\n",
        "    resy1 = np.hstack(resy)\n",
        "#    print(resx1.shape) #(34720, 3, 32, 32)\n",
        "\n",
        "    resx1 = resx1.reshape(resx1.shape[0],-1)\n",
        "#    print(resx1.shape) #(34720, 3072)\n",
        "    \n",
        "    X_train = X_train.reshape(X_train.shape[0],-1)\n",
        "#    print('decx1 ',dec_x1.shape)\n",
        "    X_train = np.vstack((resx1,X_train))\n",
        "    y_train = np.hstack((resy1,y_train))\n",
        "\n",
        "    print(X_train.shape) #(45000, 3, 32, 32)\n",
        "    print(y_train.shape) #(45000,)\n",
        "#    print()"
      ]
    },
    {
      "cell_type": "code",
      "execution_count": null,
      "metadata": {
        "id": "76bpFBQcHLIY",
        "colab": {
          "base_uri": "https://localhost:8080/"
        },
        "outputId": "59c80e36-ac67-4ab0-9e7c-76fb8f8b50fa"
      },
      "outputs": [
        {
          "output_type": "stream",
          "name": "stdout",
          "text": [
            "X_train shape:  (14077, 32, 32, 3)\n",
            "Counter({0: 2011, 1: 2011, 2: 2011, 3: 2011, 4: 2011, 6: 2011, 5: 2011})\n"
          ]
        }
      ],
      "source": [
        "X_train = X_train.reshape(-1, 3, IMAGE_W, IMAGE_H)\n",
        "X_train = moveaxis(X_train, 1, 3)\n",
        "print('X_train shape: ',X_train.shape)\n",
        "print(Counter(y_train))"
      ]
    },
    {
      "cell_type": "code",
      "execution_count": null,
      "metadata": {
        "id": "8SqyvSgX8sLO"
      },
      "outputs": [],
      "source": [
        "X_train = X_train * 255\n",
        "X_train = X_train.astype(int)"
      ]
    },
    {
      "cell_type": "code",
      "execution_count": null,
      "metadata": {
        "id": "we4D35jnEOqs"
      },
      "outputs": [],
      "source": [
        "#de-standardization\n",
        "#X_train = (X_train * X_train_std + X_train_mean).astype(int)\n",
        "#X_val = (X_val * X_train_std + X_train_mean).astype(int)"
      ]
    },
    {
      "cell_type": "markdown",
      "metadata": {
        "id": "US0KkIaVlTdU"
      },
      "source": [
        "#Data Transformation"
      ]
    },
    {
      "cell_type": "code",
      "source": [
        "# scale pixels\n",
        "def prep_pixels(train, test):\n",
        "\t# convert from integers to floats\n",
        "\ttrain_norm = train.astype('float32')\n",
        "\ttest_norm = test.astype('float32')\n",
        "\t# normalize to range 0-1\n",
        "\ttrain_norm = train_norm / 255.0\n",
        "\ttest_norm = test_norm / 255.0\n",
        "\t# return normalized images\n",
        "\treturn train_norm, test_norm"
      ],
      "metadata": {
        "id": "V8B-mju6M2rI"
      },
      "execution_count": 22,
      "outputs": []
    },
    {
      "cell_type": "code",
      "execution_count": 23,
      "metadata": {
        "id": "_a_lPCqbibaS",
        "colab": {
          "base_uri": "https://localhost:8080/"
        },
        "outputId": "a4b1fb77-014c-47fe-eebf-2715d154d764"
      },
      "outputs": [
        {
          "output_type": "stream",
          "name": "stdout",
          "text": [
            "y_train shape:  (50000, 1)\n"
          ]
        }
      ],
      "source": [
        "y_train = y_train.reshape(-1, 1)\n",
        "y_val = y_val.reshape(-1, 1)\n",
        "print('y_train shape: ',y_train.shape)"
      ]
    },
    {
      "cell_type": "code",
      "execution_count": 24,
      "metadata": {
        "id": "ja5ZmgbCvDw5"
      },
      "outputs": [],
      "source": [
        "y_train = to_categorical(y_train, num_classes = num_classes)\n",
        "y_val = to_categorical(y_val, num_classes = num_classes)"
      ]
    },
    {
      "cell_type": "code",
      "execution_count": 25,
      "metadata": {
        "id": "9QM00erNGU32",
        "colab": {
          "base_uri": "https://localhost:8080/"
        },
        "outputId": "6131b609-1860-4681-ac9a-8e1045d04f07"
      },
      "outputs": [
        {
          "output_type": "stream",
          "name": "stdout",
          "text": [
            "(50000, 32, 32, 3)\n",
            "(50000, 10)\n",
            "(10000, 32, 32, 3)\n",
            "(10000, 10)\n"
          ]
        }
      ],
      "source": [
        "print(X_train.shape)\n",
        "print(y_train.shape)\n",
        "print(X_val.shape)\n",
        "print(y_val.shape)"
      ]
    },
    {
      "cell_type": "markdown",
      "metadata": {
        "id": "0jrJ33lUDkCM"
      },
      "source": [
        "#Split dataset to train and val"
      ]
    },
    {
      "cell_type": "code",
      "execution_count": null,
      "metadata": {
        "colab": {
          "base_uri": "https://localhost:8080/"
        },
        "id": "e6qneWL_Bs2U",
        "outputId": "22c2c4ff-5544-4dd8-b69a-af96b4b97616"
      },
      "outputs": [
        {
          "name": "stdout",
          "output_type": "stream",
          "text": [
            "Train Data:  (9814, 32, 32, 3)\n",
            "Remaining Data:  (201, 32, 32, 3)\n"
          ]
        }
      ],
      "source": [
        "# stratified train and rem (20%) datasets\n",
        "from sklearn.model_selection import train_test_split\n",
        "X_train, X_val, y_train, y_val = train_test_split(X, y, test_size=0.02, stratify=y, random_state=1)\n",
        "\n",
        "print('Train Data: ', X_train.shape)\n",
        "print('Remaining Data: ', X_val.shape)"
      ]
    },
    {
      "cell_type": "code",
      "execution_count": null,
      "metadata": {
        "colab": {
          "base_uri": "https://localhost:8080/"
        },
        "id": "Vai7M7WSXVY4",
        "outputId": "b9bc1199-a518-4a8b-9d6e-4d6038efbafe"
      },
      "outputs": [
        {
          "name": "stdout",
          "output_type": "stream",
          "text": [
            "Test Data:  (416, 32, 32, 3)\n",
            "Val Data:  (416, 32, 32, 3)\n"
          ]
        }
      ],
      "source": [
        "# stratified val and test (50%) \n",
        "from sklearn.model_selection import train_test_split\n",
        "X_test, X_val, y_test, y_val = train_test_split(X_rem, y_rem, test_size=0.5, stratify=y_rem, random_state=1)\n",
        "\n",
        "print('Test Data: ', X_test.shape)\n",
        "print('Val Data: ', X_val.shape)"
      ]
    },
    {
      "cell_type": "markdown",
      "metadata": {
        "id": "I15HgVuhjFlm"
      },
      "source": []
    },
    {
      "cell_type": "code",
      "execution_count": null,
      "metadata": {
        "colab": {
          "base_uri": "https://localhost:8080/"
        },
        "id": "oVVOQPNiHXHw",
        "outputId": "a1e60310-4f3b-4063-8465-4d7120d225c9"
      },
      "outputs": [
        {
          "name": "stdout",
          "output_type": "stream",
          "text": [
            "Train Data:  (2015, 32, 32, 3)\n",
            "Test Data:  (224, 32, 32, 3)\n"
          ]
        }
      ],
      "source": [
        "#optional\n",
        "# stratified train and test (10%) datasets\n",
        "from sklearn.model_selection import train_test_split\n",
        "X_train, X_test, y_train, y_test = train_test_split(X, y, test_size=0.1, stratify=y, random_state=1)\n",
        "\n",
        "print('Train Data: ', X_train.shape)\n",
        "print('Test Data: ', X_test.shape)"
      ]
    },
    {
      "cell_type": "code",
      "execution_count": null,
      "metadata": {
        "colab": {
          "base_uri": "https://localhost:8080/"
        },
        "id": "0_oaUYYgJNV7",
        "outputId": "ca2f393a-0599-4cfc-b330-45d723f2bb06"
      },
      "outputs": [
        {
          "name": "stdout",
          "output_type": "stream",
          "text": [
            "Train Data:  (3369, 32, 32, 3)\n",
            "Val Data:  (375, 32, 32, 3)\n"
          ]
        }
      ],
      "source": [
        "#optional\n",
        "# stratified train and val (10%) datasets\n",
        "from sklearn.model_selection import train_test_split\n",
        "X_train, X_val, y_train, y_val = train_test_split(X, y, test_size=0.1, stratify=y, random_state=1)\n",
        "\n",
        "print('Train Data: ', X_train.shape)\n",
        "print('Val Data: ', X_val.shape)"
      ]
    },
    {
      "cell_type": "markdown",
      "metadata": {
        "id": "ZklPzWxCCtTW"
      },
      "source": [
        "Create and compile the model"
      ]
    },
    {
      "cell_type": "code",
      "execution_count": null,
      "metadata": {
        "id": "7jFShRvTHnqi"
      },
      "outputs": [],
      "source": [
        "print(X_train)"
      ]
    },
    {
      "cell_type": "code",
      "execution_count": null,
      "metadata": {
        "id": "8Kef4r_zxjgk"
      },
      "outputs": [],
      "source": [
        "#Data Augmentation\n",
        "dataaugment = ImageDataGenerator(\n",
        "        rotation_range=90,  # randomly rotate images in the range (degrees, 0 to 180)\n",
        "        zoom_range = 0.1, # Randomly zoom image \n",
        "        width_shift_range=0.1,  # randomly shift images horizontally (fraction of total width)\n",
        "        height_shift_range=0.1,  # randomly shift images vertically (fraction of total height)\n",
        "        horizontal_flip=True,  # randomly flip images\n",
        "        vertical_flip=True,  # randomly flip images\n",
        "        shear_range = 10) \n",
        "\n",
        "dataaugment.fit(X_train)"
      ]
    },
    {
      "cell_type": "markdown",
      "metadata": {
        "id": "5v7sLC2svMuJ"
      },
      "source": [
        "# Classification\n",
        "Model from https://github.com/AnasBrital98/CNN-From-Scratch/tree/master/Inception-V3"
      ]
    },
    {
      "cell_type": "code",
      "execution_count": 31,
      "metadata": {
        "id": "A8eRZiucdYnP"
      },
      "outputs": [],
      "source": [
        "EPOCHS = 1000\n",
        "BATCH_SIZE = 64\n",
        "optimizer = Adam(learning_rate=0.001, beta_1=0.9, beta_2=0.999, epsilon=None, decay=0.0, amsgrad=False)\n",
        "\n",
        "#USe TF.data\n",
        "training_data = tf.data.Dataset.from_tensor_slices((X_train, y_train))\n",
        "validation_data = tf.data.Dataset.from_tensor_slices((X_val, y_val))\n",
        "\n",
        "autotune = tf.data.AUTOTUNE\n",
        "train_data_batches = training_data.shuffle(buffer_size=40000).batch(BATCH_SIZE).prefetch(buffer_size=autotune)\n",
        "valid_data_batches = validation_data.shuffle(buffer_size=10000).batch(BATCH_SIZE).prefetch(buffer_size=autotune)\n",
        "\n",
        "#Data augmentation\n",
        "data_augmentation = tf.keras.Sequential([\n",
        "  layers.experimental.preprocessing.RandomFlip(\"horizontal_and_vertical\"),\n",
        "  layers.experimental.preprocessing.RandomRotation(0.2), \n",
        "  layers.experimental.preprocessing.RandomZoom(height_factor=(0.2, 0.3), width_factor=(0.2, 0.3)),\n",
        "  layers.experimental.preprocessing.RandomTranslation(0.3, 0.3, fill_mode='reflect', interpolation='bilinear',)\n",
        "])\n",
        "\n",
        "def balanced_acc(y_true, y_pred):\n",
        "    from keras import backend as K\n",
        "\n",
        "    tensor1 = tf.math.argmax(y_true, axis=1)\n",
        "    tensor2 = tf.math.argmax(y_pred, axis=1)\n",
        "\n",
        "    cm = tf.math.confusion_matrix(tensor1, tensor2)\n",
        "    \n",
        "    diag = tf.linalg.tensor_diag_part (cm)\n",
        "    tpfn = tf.cast(K.sum(cm, axis = 1), tf.float32) + K.epsilon()\n",
        "    recall = tf.divide(tf.cast(diag, tf.float32),tpfn)\n",
        "    balanced_acc = K.mean(recall)\n",
        "    return balanced_acc\n",
        "\n",
        "#Callbacks\n",
        "best_model_fpath = '/content/drive/MyDrive/PHD/Model/best_model_SMOTE.h5'\n",
        "last_model_fpath = '/content/drive/MyDrive/PHD/Model/last_model_SMOTE.h5'\n",
        "mc = ModelCheckpoint(best_model_fpath, monitor='val_accuracy', mode='max', verbose=1, save_best_only=True)\n",
        "learning_rate_reduction = ReduceLROnPlateau(monitor='val_loss', patience=10, verbose=0, factor=0.5, min_lr=0.00001)\n",
        "early_stopping_monitor = EarlyStopping(patience=30,monitor='val_accuracy')\n"
      ]
    },
    {
      "cell_type": "code",
      "source": [
        "# define cnn model\n",
        "from keras.models import Sequential\n",
        "from keras.layers import Conv2D, MaxPooling2D, UpSampling2D\n",
        "\n",
        "def define_model():\n",
        "\tmodel = Sequential()\n",
        "\tmodel.add(Conv2D(32, (3, 3), activation='relu', kernel_initializer='he_uniform', padding='same', input_shape=(32, 32, 3)))\n",
        "\tmodel.add(Conv2D(32, (3, 3), activation='relu', kernel_initializer='he_uniform', padding='same'))\n",
        "\tmodel.add(MaxPooling2D((2, 2)))\n",
        "\tmodel.add(Flatten())\n",
        "\tmodel.add(Dense(128, activation='relu', kernel_initializer='he_uniform'))\n",
        "\tmodel.add(Dense(10, activation='softmax'))\n",
        "\t# compile model\n",
        "\topt = SGD(learning_rate=0.001, momentum=0.9)\n",
        "\tmodel.compile(optimizer=opt, loss='categorical_crossentropy', metrics=['accuracy'])\n",
        "\treturn model\n",
        "\n",
        "def define_model_resnet():\n",
        "  input_shape = X_train.shape[1:]\n",
        "  input_tensor = Input(shape=(IMAGE_H, IMAGE_W, 3))\n",
        "  x = UpSampling2D()(input_tensor)\n",
        "  x = UpSampling2D()(x)\n",
        "  x = UpSampling2D()(x)\n",
        "  #x = data_augmentation(input_tensor)\n",
        "  #x = layers.Rescaling(1.0 / 255)(input_tensor)  # Rescale inputs\n",
        "  x = ResNet50(input_shape=(256,256,3), weights='imagenet', include_top=False)(x, training=False)\n",
        "  x = Flatten()(x)\n",
        "  x = Dense(128, activation='relu')(x)\n",
        "  predictions = Dense(num_classes, activation='softmax')(x)\n",
        "  model = Model(inputs=input_tensor, outputs=predictions)\n",
        "  opt_SGD = SGD(learning_rate=0.001, momentum=0.9)\n",
        "  model.compile(optimizer = opt_SGD , loss = \"categorical_crossentropy\", metrics=['accuracy', balanced_acc])\n",
        "  return model\n",
        "\n",
        "# plot diagnostic learning curves\n",
        "def summarize_diagnostics(history):\n",
        "\t# plot loss\n",
        "\tplt.subplot(211)\n",
        "\tplt.title('Cross Entropy Loss')\n",
        "\tplt.plot(history.history['loss'], color='blue', label='train')\n",
        "\tplt.plot(history.history['val_loss'], color='orange', label='test')\n",
        "\t# plot accuracy\n",
        "\tplt.subplot(212)\n",
        "\tplt.title('Classification Accuracy')\n",
        "\tplt.plot(history.history['accuracy'], color='blue', label='train')\n",
        "\tplt.plot(history.history['val_accuracy'], color='orange', label='test')\n",
        "\tplt.close()"
      ],
      "metadata": {
        "id": "TcSDKSJMiIgF"
      },
      "execution_count": 58,
      "outputs": []
    },
    {
      "cell_type": "code",
      "source": [
        "X_train, y_train, X_val, y_val = load_cifar10_dataset()\n",
        "X_train, X_val = prep_pixels(X_train, X_val)\n",
        "# define model\n",
        "model = define_model_resnet()\n",
        "# fit model\n",
        "history = model.fit(X_train, y_train, epochs=100, batch_size=64, validation_data=(X_val, y_val), verbose=1)\n",
        "# evaluate model\n",
        "_, acc = model.evaluate(X_val, y_val, verbose=0)\n",
        "print('> %.3f' % (acc * 100.0))\n",
        "# learning curves\n",
        "summarize_diagnostics(history)"
      ],
      "metadata": {
        "colab": {
          "base_uri": "https://localhost:8080/"
        },
        "id": "HEWTZKJ8i3Jj",
        "outputId": "e3635d0d-c631-40a7-a1f7-d8990ab464ca"
      },
      "execution_count": null,
      "outputs": [
        {
          "output_type": "stream",
          "name": "stdout",
          "text": [
            "Epoch 1/100\n",
            "782/782 [==============================] - 355s 446ms/step - loss: 2.3993 - accuracy: 0.0985 - balanced_acc: 0.0999 - val_loss: 2.3026 - val_accuracy: 0.1000 - val_balanced_acc: 0.1001\n",
            "Epoch 2/100\n",
            "482/782 [=================>............] - ETA: 2:06 - loss: 2.3026 - accuracy: 0.0996 - balanced_acc: 0.1000"
          ]
        }
      ]
    },
    {
      "cell_type": "code",
      "execution_count": null,
      "metadata": {
        "id": "rwwLiXUSG0IZ"
      },
      "outputs": [],
      "source": [
        "#Training\n",
        "hst = model.fit(train_data_batches,\n",
        "                    epochs = EPOCHS, validation_data = valid_data_batches,      \n",
        "                    #steps_per_epoch=X_train.shape[0] // BATCH_SIZE, \n",
        "                    callbacks=[learning_rate_reduction,early_stopping_monitor, mc])\n"
      ]
    },
    {
      "cell_type": "code",
      "source": [
        "# define model\n",
        "\tmodel = define_model()"
      ],
      "metadata": {
        "id": "3qoJo9BaiRBA"
      },
      "execution_count": null,
      "outputs": []
    },
    {
      "cell_type": "code",
      "source": [
        "model.summary()"
      ],
      "metadata": {
        "colab": {
          "base_uri": "https://localhost:8080/"
        },
        "id": "2ekwlcGNhYDy",
        "outputId": "045f928b-c146-464f-95c8-1bdc87cb58cc"
      },
      "execution_count": 36,
      "outputs": [
        {
          "output_type": "stream",
          "name": "stdout",
          "text": [
            "Model: \"model_6\"\n",
            "_________________________________________________________________\n",
            " Layer (type)                Output Shape              Param #   \n",
            "=================================================================\n",
            " input_14 (InputLayer)       [(None, 32, 32, 3)]       0         \n",
            "                                                                 \n",
            " resnet50 (Functional)       (None, 1, 1, 2048)        23587712  \n",
            "                                                                 \n",
            " flatten_6 (Flatten)         (None, 2048)              0         \n",
            "                                                                 \n",
            " dense_12 (Dense)            (None, 128)               262272    \n",
            "                                                                 \n",
            " dense_13 (Dense)            (None, 10)                1290      \n",
            "                                                                 \n",
            "=================================================================\n",
            "Total params: 23,851,274\n",
            "Trainable params: 263,562\n",
            "Non-trainable params: 23,587,712\n",
            "_________________________________________________________________\n"
          ]
        }
      ]
    },
    {
      "cell_type": "code",
      "execution_count": null,
      "metadata": {
        "id": "vXnW3lmCgln3"
      },
      "outputs": [],
      "source": [
        "# summarize history for accuracy\n",
        "plt.plot(hst.history['balanced_acc'])\n",
        "plt.plot(hst.history['val_balanced_acc'])\n",
        "plt.title('Model balanced accuracy')\n",
        "plt.ylabel('Balanced Accuracy')\n",
        "plt.xlabel('epoch')\n",
        "plt.legend(['train', 'val'], loc='upper left')\n",
        "plt.show()"
      ]
    },
    {
      "cell_type": "markdown",
      "metadata": {
        "id": "B2PgksTFkOAq"
      },
      "source": [
        "#Fine Tune"
      ]
    },
    {
      "cell_type": "code",
      "execution_count": null,
      "metadata": {
        "id": "Nr1jnSM7yzJc"
      },
      "outputs": [],
      "source": [
        "limit = 171\n",
        "for layer in model.layers[:limit]:\n",
        "   layer.trainable = False\n",
        "for layer in model.layers[limit:]:\n",
        "   layer.trainable = True\n",
        "\n",
        "optimizer_SGD = SGD(learning_rate=0.0001, momentum=0.9)\n",
        "model.compile(optimizer = optimizer_SGD , loss = \"categorical_crossentropy\", metrics=['accuracy', balanced_acc])\n",
        "hst2 = model.fit(train_data_batches,\n",
        "                    epochs = EPOCHS, validation_data = valid_data_batches,\n",
        "                    callbacks=[learning_rate_reduction,early_stopping_monitor, mc])\n"
      ]
    },
    {
      "cell_type": "code",
      "execution_count": 17,
      "metadata": {
        "id": "SPz8NH1Oylv9"
      },
      "outputs": [],
      "source": [
        "#save last model\n",
        "\n",
        "model.save(last_model_fpath)"
      ]
    },
    {
      "cell_type": "code",
      "execution_count": null,
      "metadata": {
        "id": "vO1aAQBmiy0K",
        "colab": {
          "base_uri": "https://localhost:8080/",
          "height": 295
        },
        "outputId": "ed89cf6c-9f2d-415e-d05e-8456a41b790b"
      },
      "outputs": [
        {
          "output_type": "display_data",
          "data": {
            "text/plain": [
              "<Figure size 432x288 with 1 Axes>"
            ],
            "image/png": "[encoded data removed]"
          },
          "metadata": {
            "needs_background": "light"
          }
        }
      ],
      "source": [
        "# summarize history for accuracy\n",
        "plt.plot(hst2.history['balanced_acc'])\n",
        "plt.plot(hst2.history['val_balanced_acc'])\n",
        "plt.title('model balance_acc after tunning')\n",
        "plt.ylabel('accuracy')\n",
        "plt.xlabel('epoch')\n",
        "plt.legend(['train', 'val'], loc='upper left')\n",
        "plt.show()"
      ]
    },
    {
      "cell_type": "code",
      "execution_count": 19,
      "metadata": {
        "id": "lS3ewyxO_anU",
        "colab": {
          "base_uri": "https://localhost:8080/"
        },
        "outputId": "bb14fec1-218d-4a0c-869e-d40ae3465e85"
      },
      "outputs": [
        {
          "output_type": "stream",
          "name": "stdout",
          "text": [
            "accuracy on training 0.49752\n",
            "balanced accuracy on training 0.4975200000000001\n",
            "accuracy on validation 0.4826\n",
            "balanced accuracy on validation 0.4826\n",
            "Score on val data:  (0.4966806325831564, 0.4826, 0.4724266643561029, None)\n"
          ]
        }
      ],
      "source": [
        "last_model = load_model(last_model_fpath, custom_objects={'balanced_acc' : balanced_acc})\n",
        "y_train_pred = model.predict(X_train)\n",
        "y_val_pred = model.predict(X_val)\n",
        "\n",
        "print('accuracy on training',accuracy_score(np.argmax(y_train, axis=1), np.argmax(y_train_pred, axis=1)))\n",
        "print('balanced accuracy on training',balanced_accuracy_score(np.argmax(y_train, axis=1), np.argmax(y_train_pred, axis=1)))\n",
        "print('accuracy on validation',accuracy_score(np.argmax(y_val, axis=1), np.argmax(y_val_pred, axis=1)))\n",
        "print('balanced accuracy on validation',balanced_accuracy_score(np.argmax(y_val, axis=1), np.argmax(y_val_pred, axis=1)))\n",
        "print('Score on val data: ',precision_recall_fscore_support(np.argmax(y_val, axis=1), np.argmax(y_val_pred, axis=1), average='macro'))"
      ]
    },
    {
      "cell_type": "code",
      "execution_count": null,
      "metadata": {
        "id": "W3IyWjdGG4Xq",
        "colab": {
          "base_uri": "https://localhost:8080/"
        },
        "outputId": "8d8d2287-a84c-413c-ae31-902a98cce256"
      },
      "outputs": [
        {
          "output_type": "stream",
          "name": "stdout",
          "text": [
            "accuracy on training 0.5948000284151452\n",
            "balanced accuracy on training 0.5948000284151452\n",
            "accuracy on validation 0.7150259067357513\n",
            "balanced accuracy on validation 0.5925026773458829\n",
            "Score on val data:  (0.46542980828695113, 0.5925026773458829, 0.4657625006072212, None)\n"
          ]
        }
      ],
      "source": [
        "best_model = load_model(best_model_fpath, custom_objects={'balanced_acc' : balanced_acc})\n",
        "y_train_pred = best_model.predict(X_train)\n",
        "y_val_pred = best_model.predict(X_val)\n",
        "\n",
        "print('accuracy on training',accuracy_score(np.argmax(y_train, axis=1), np.argmax(y_train_pred, axis=1)))\n",
        "print('balanced accuracy on training',balanced_accuracy_score(np.argmax(y_train, axis=1), np.argmax(y_train_pred, axis=1)))\n",
        "print('accuracy on validation',accuracy_score(np.argmax(y_val, axis=1), np.argmax(y_val_pred, axis=1)))\n",
        "print('balanced accuracy on validation',balanced_accuracy_score(np.argmax(y_val, axis=1), np.argmax(y_val_pred, axis=1)))\n",
        "print('Score on val data: ',precision_recall_fscore_support(np.argmax(y_val, axis=1), np.argmax(y_val_pred, axis=1), average='macro'))"
      ]
    },
    {
      "cell_type": "markdown",
      "source": [
        "#Cut-off"
      ],
      "metadata": {
        "id": "iDRWiTnO0MGh"
      }
    },
    {
      "cell_type": "code",
      "source": [
        "df_val_pred = pd.DataFrame(y_val_pred, columns = ['AKIEC', 'BCC', 'BKL', 'DF', 'MEL', 'NV', 'VASC'])\n"
      ],
      "metadata": {
        "id": "tGnCoIdLyDHS"
      },
      "execution_count": null,
      "outputs": []
    },
    {
      "cell_type": "code",
      "source": [
        "numbers = [float(x)/20 for x in range(11)]\n",
        "\n",
        "for i in numbers:\n",
        "    df_val_pred[i]= df_val_pred.MEL.map(lambda x: 1 if x > i else 0)\n",
        "df_val_pred.head()"
      ],
      "metadata": {
        "colab": {
          "base_uri": "https://localhost:8080/",
          "height": 206
        },
        "id": "QdyCbloQyWTC",
        "outputId": "26bda459-42ad-4bb9-eee9-9e56face1726"
      },
      "execution_count": null,
      "outputs": [
        {
          "output_type": "execute_result",
          "data": {
            "text/plain": [
              "          AKIEC           BCC       BKL            DF       MEL        NV  \\\n",
              "0  5.084903e-03  1.769504e-02  0.546572  4.557056e-04  0.425976  0.004172   \n",
              "1  1.320337e-04  1.471251e-04  0.020348  2.605583e-04  0.058728  0.920203   \n",
              "2  1.323267e-01  5.562500e-01  0.053081  1.879472e-01  0.018936  0.000178   \n",
              "3  3.269122e-08  1.066237e-07  0.013569  1.471067e-07  0.208309  0.778121   \n",
              "4  4.402772e-08  4.691080e-07  0.000597  2.729896e-06  0.006526  0.992803   \n",
              "\n",
              "           VASC  0.0  0.05  0.1  0.15  0.2  0.25  0.3  0.35  0.4  0.45  0.5  \n",
              "0  4.465457e-05    1     1    1     1    1     1    1     1    1     0    0  \n",
              "1  1.803947e-04    1     1    0     0    0     0    0     0    0     0    0  \n",
              "2  5.128152e-02    1     0    0     0    0     0    0     0    0     0    0  \n",
              "3  5.651036e-08    1     1    1     1    1     0    0     0    0     0    0  \n",
              "4  7.083380e-05    1     0    0     0    0     0    0     0    0     0    0  "
            ],
            "text/html": [
              "\n",
              "  <div id=\"df-8833ddab-e316-4230-b2b6-074ed718dbd5\">\n",
              "    <div class=\"colab-df-container\">\n",
              "      <div>\n",
              "<style scoped>\n",
              "    .dataframe tbody tr th:only-of-type {\n",
              "        vertical-align: middle;\n",
              "    }\n",
              "\n",
              "    .dataframe tbody tr th {\n",
              "        vertical-align: top;\n",
              "    }\n",
              "\n",
              "    .dataframe thead th {\n",
              "        text-align: right;\n",
              "    }\n",
              "</style>\n",
              "<table border=\"1\" class=\"dataframe\">\n",
              "  <thead>\n",
              "    <tr style=\"text-align: right;\">\n",
              "      <th></th>\n",
              "      <th>AKIEC</th>\n",
              "      <th>BCC</th>\n",
              "      <th>BKL</th>\n",
              "      <th>DF</th>\n",
              "      <th>MEL</th>\n",
              "      <th>NV</th>\n",
              "      <th>VASC</th>\n",
              "      <th>0.0</th>\n",
              "      <th>0.05</th>\n",
              "      <th>0.1</th>\n",
              "      <th>0.15</th>\n",
              "      <th>0.2</th>\n",
              "      <th>0.25</th>\n",
              "      <th>0.3</th>\n",
              "      <th>0.35</th>\n",
              "      <th>0.4</th>\n",
              "      <th>0.45</th>\n",
              "      <th>0.5</th>\n",
              "    </tr>\n",
              "  </thead>\n",
              "  <tbody>\n",
              "    <tr>\n",
              "      <th>0</th>\n",
              "      <td>5.084903e-03</td>\n",
              "      <td>1.769504e-02</td>\n",
              "      <td>0.546572</td>\n",
              "      <td>4.557056e-04</td>\n",
              "      <td>0.425976</td>\n",
              "      <td>0.004172</td>\n",
              "      <td>4.465457e-05</td>\n",
              "      <td>1</td>\n",
              "      <td>1</td>\n",
              "      <td>1</td>\n",
              "      <td>1</td>\n",
              "      <td>1</td>\n",
              "      <td>1</td>\n",
              "      <td>1</td>\n",
              "      <td>1</td>\n",
              "      <td>1</td>\n",
              "      <td>0</td>\n",
              "      <td>0</td>\n",
              "    </tr>\n",
              "    <tr>\n",
              "      <th>1</th>\n",
              "      <td>1.320337e-04</td>\n",
              "      <td>1.471251e-04</td>\n",
              "      <td>0.020348</td>\n",
              "      <td>2.605583e-04</td>\n",
              "      <td>0.058728</td>\n",
              "      <td>0.920203</td>\n",
              "      <td>1.803947e-04</td>\n",
              "      <td>1</td>\n",
              "      <td>1</td>\n",
              "      <td>0</td>\n",
              "      <td>0</td>\n",
              "      <td>0</td>\n",
              "      <td>0</td>\n",
              "      <td>0</td>\n",
              "      <td>0</td>\n",
              "      <td>0</td>\n",
              "      <td>0</td>\n",
              "      <td>0</td>\n",
              "    </tr>\n",
              "    <tr>\n",
              "      <th>2</th>\n",
              "      <td>1.323267e-01</td>\n",
              "      <td>5.562500e-01</td>\n",
              "      <td>0.053081</td>\n",
              "      <td>1.879472e-01</td>\n",
              "      <td>0.018936</td>\n",
              "      <td>0.000178</td>\n",
              "      <td>5.128152e-02</td>\n",
              "      <td>1</td>\n",
              "      <td>0</td>\n",
              "      <td>0</td>\n",
              "      <td>0</td>\n",
              "      <td>0</td>\n",
              "      <td>0</td>\n",
              "      <td>0</td>\n",
              "      <td>0</td>\n",
              "      <td>0</td>\n",
              "      <td>0</td>\n",
              "      <td>0</td>\n",
              "    </tr>\n",
              "    <tr>\n",
              "      <th>3</th>\n",
              "      <td>3.269122e-08</td>\n",
              "      <td>1.066237e-07</td>\n",
              "      <td>0.013569</td>\n",
              "      <td>1.471067e-07</td>\n",
              "      <td>0.208309</td>\n",
              "      <td>0.778121</td>\n",
              "      <td>5.651036e-08</td>\n",
              "      <td>1</td>\n",
              "      <td>1</td>\n",
              "      <td>1</td>\n",
              "      <td>1</td>\n",
              "      <td>1</td>\n",
              "      <td>0</td>\n",
              "      <td>0</td>\n",
              "      <td>0</td>\n",
              "      <td>0</td>\n",
              "      <td>0</td>\n",
              "      <td>0</td>\n",
              "    </tr>\n",
              "    <tr>\n",
              "      <th>4</th>\n",
              "      <td>4.402772e-08</td>\n",
              "      <td>4.691080e-07</td>\n",
              "      <td>0.000597</td>\n",
              "      <td>2.729896e-06</td>\n",
              "      <td>0.006526</td>\n",
              "      <td>0.992803</td>\n",
              "      <td>7.083380e-05</td>\n",
              "      <td>1</td>\n",
              "      <td>0</td>\n",
              "      <td>0</td>\n",
              "      <td>0</td>\n",
              "      <td>0</td>\n",
              "      <td>0</td>\n",
              "      <td>0</td>\n",
              "      <td>0</td>\n",
              "      <td>0</td>\n",
              "      <td>0</td>\n",
              "      <td>0</td>\n",
              "    </tr>\n",
              "  </tbody>\n",
              "</table>\n",
              "</div>\n",
              "      <button class=\"colab-df-convert\" onclick=\"convertToInteractive('df-8833ddab-e316-4230-b2b6-074ed718dbd5')\"\n",
              "              title=\"Convert this dataframe to an interactive table.\"\n",
              "              style=\"display:none;\">\n",
              "        \n",
              "  <svg xmlns=\"http://www.w3.org/2000/svg\" height=\"24px\"viewBox=\"0 0 24 24\"\n",
              "       width=\"24px\">\n",
              "    <path d=\"M0 0h24v24H0V0z\" fill=\"none\"/>\n",
              "    <path d=\"M18.56 5.44l.94 2.06.94-2.06 2.06-.94-2.06-.94-.94-2.06-.94 2.06-2.06.94zm-11 1L8.5 8.5l.94-2.06 2.06-.94-2.06-.94L8.5 2.5l-.94 2.06-2.06.94zm10 10l.94 2.06.94-2.06 2.06-.94-2.06-.94-.94-2.06-.94 2.06-2.06.94z\"/><path d=\"M17.41 7.96l-1.37-1.37c-.4-.4-.92-.59-1.43-.59-.52 0-1.04.2-1.43.59L10.3 9.45l-7.72 7.72c-.78.78-.78 2.05 0 2.83L4 21.41c.39.39.9.59 1.41.59.51 0 1.02-.2 1.41-.59l7.78-7.78 2.81-2.81c.8-.78.8-2.07 0-2.86zM5.41 20L4 18.59l7.72-7.72 1.47 1.35L5.41 20z\"/>\n",
              "  </svg>\n",
              "      </button>\n",
              "      \n",
              "  <style>\n",
              "    .colab-df-container {\n",
              "      display:flex;\n",
              "      flex-wrap:wrap;\n",
              "      gap: 12px;\n",
              "    }\n",
              "\n",
              "    .colab-df-convert {\n",
              "      background-color: #E8F0FE;\n",
              "      border: none;\n",
              "      border-radius: 50%;\n",
              "      cursor: pointer;\n",
              "      display: none;\n",
              "      fill: #1967D2;\n",
              "      height: 32px;\n",
              "      padding: 0 0 0 0;\n",
              "      width: 32px;\n",
              "    }\n",
              "\n",
              "    .colab-df-convert:hover {\n",
              "      background-color: #E2EBFA;\n",
              "      box-shadow: 0px 1px 2px rgba(60, 64, 67, 0.3), 0px 1px 3px 1px rgba(60, 64, 67, 0.15);\n",
              "      fill: #174EA6;\n",
              "    }\n",
              "\n",
              "    [theme=dark] .colab-df-convert {\n",
              "      background-color: #3B4455;\n",
              "      fill: #D2E3FC;\n",
              "    }\n",
              "\n",
              "    [theme=dark] .colab-df-convert:hover {\n",
              "      background-color: #434B5C;\n",
              "      box-shadow: 0px 1px 3px 1px rgba(0, 0, 0, 0.15);\n",
              "      filter: drop-shadow(0px 1px 2px rgba(0, 0, 0, 0.3));\n",
              "      fill: #FFFFFF;\n",
              "    }\n",
              "  </style>\n",
              "\n",
              "      <script>\n",
              "        const buttonEl =\n",
              "          document.querySelector('#df-8833ddab-e316-4230-b2b6-074ed718dbd5 button.colab-df-convert');\n",
              "        buttonEl.style.display =\n",
              "          google.colab.kernel.accessAllowed ? 'block' : 'none';\n",
              "\n",
              "        async function convertToInteractive(key) {\n",
              "          const element = document.querySelector('#df-8833ddab-e316-4230-b2b6-074ed718dbd5');\n",
              "          const dataTable =\n",
              "            await google.colab.kernel.invokeFunction('convertToInteractive',\n",
              "                                                     [key], {});\n",
              "          if (!dataTable) return;\n",
              "\n",
              "          const docLinkHtml = 'Like what you see? Visit the ' +\n",
              "            '<a target=\"_blank\" href=https://colab.research.google.com/notebooks/data_table.ipynb>data table notebook</a>'\n",
              "            + ' to learn more about interactive tables.';\n",
              "          element.innerHTML = '';\n",
              "          dataTable['output_type'] = 'display_data';\n",
              "          await google.colab.output.renderOutput(dataTable, element);\n",
              "          const docLink = document.createElement('div');\n",
              "          docLink.innerHTML = docLinkHtml;\n",
              "          element.appendChild(docLink);\n",
              "        }\n",
              "      </script>\n",
              "    </div>\n",
              "  </div>\n",
              "  "
            ]
          },
          "metadata": {},
          "execution_count": 28
        }
      ]
    },
    {
      "cell_type": "code",
      "source": [
        "y_val_true= [1 if x == 4 else 0 for x in np.argmax(y_val, axis=1)]"
      ],
      "metadata": {
        "id": "G4SQsRx73kgk"
      },
      "execution_count": null,
      "outputs": []
    },
    {
      "cell_type": "code",
      "source": [
        "num = [0.0,0.05,0.1,0.15,0.2,0.25,0.3,0.35,0.4,0.45,0.5]\n",
        "cutoff_df = pd.DataFrame( columns = ['Probability','Accuracy','Sensitivity','Specificity'])\n",
        "for i in num:\n",
        "    cm1 = confusion_matrix(y_val_true, df_val_pred[i])\n",
        "    total1=sum(sum(cm1))\n",
        "    Accuracy = (cm1[0,0]+cm1[1,1])/total1\n",
        "    Specificity = cm1[0,0]/(cm1[0,0]+cm1[0,1])\n",
        "    Sensitivity = cm1[1,1]/(cm1[1,0]+cm1[1,1])\n",
        "    cutoff_df.loc[i] =[ i ,Accuracy,Sensitivity,Specificity]"
      ],
      "metadata": {
        "id": "QcUISWFi0J05"
      },
      "execution_count": null,
      "outputs": []
    },
    {
      "cell_type": "code",
      "source": [
        "cutoff_df[['Accuracy','Sensitivity','Specificity']].plot()\n",
        "\n",
        "plt.show()"
      ],
      "metadata": {
        "colab": {
          "base_uri": "https://localhost:8080/",
          "height": 211
        },
        "id": "W31LSzov1tCt",
        "outputId": "c33b0c8d-4145-4e3f-c9b5-64fdc34696ea"
      },
      "execution_count": null,
      "outputs": [
        {
          "output_type": "display_data",
          "data": {
            "text/plain": [
              "<Figure size 1080x216 with 1 Axes>"
            ],
            "image/png": "[encoded data removed]"
          },
          "metadata": {
            "needs_background": "light"
          }
        }
      ]
    },
    {
      "cell_type": "markdown",
      "metadata": {
        "id": "eaK4zbtoaAaC"
      },
      "source": [
        "#Confusion Metric on Validation Set"
      ]
    },
    {
      "cell_type": "code",
      "source": [
        "i = 0.35\n",
        "cm1 = confusion_matrix(y_val_true, df_val_pred[i])\n",
        "total1=sum(sum(cm1))\n",
        "Accuracy = (cm1[0,0]+cm1[1,1])/total1\n",
        "Specificity = cm1[0,0]/(cm1[0,0]+cm1[0,1])\n",
        "Sensitivity = cm1[1,1]/(cm1[1,0]+cm1[1,1])"
      ],
      "metadata": {
        "id": "P6CIKT94Jqye"
      },
      "execution_count": null,
      "outputs": []
    },
    {
      "cell_type": "code",
      "source": [
        "print('Accuracy: ', Accuracy)\n",
        "print('Sensitivity: ', Sensitivity)\n",
        "print('Specificity: ', Specificity)"
      ],
      "metadata": {
        "colab": {
          "base_uri": "https://localhost:8080/"
        },
        "id": "3U2tkFebL_VC",
        "outputId": "05185a6a-dddc-45b3-938b-6ea78fdda967"
      },
      "execution_count": null,
      "outputs": [
        {
          "output_type": "stream",
          "name": "stdout",
          "text": [
            "Accuracy:  0.7357512953367875\n",
            "Sensitivity:  1.0\n",
            "Specificity:  0.8961038961038961\n"
          ]
        }
      ]
    },
    {
      "cell_type": "code",
      "source": [
        "#change melanoma flag back to 4\n",
        "df_val_pred[df_val_pred[i] == 1] = 4\n",
        "#decode one-hot y_val_pred while use cut-off melanoma data\n",
        "condition = df_val_pred[i] == 4\n",
        "y_val_pred2 = np.where(condition, df_val_pred[i], np.argmax(y_val_pred, axis=1))"
      ],
      "metadata": {
        "id": "YkPOFLehOmFg"
      },
      "execution_count": null,
      "outputs": []
    },
    {
      "cell_type": "code",
      "source": [
        "print('Accuracy: ',accuracy_score(np.argmax(y_val, axis=1), y_val_pred2))\n",
        "print('Balanced accuracy: ',balanced_accuracy_score(np.argmax(y_val, axis=1), y_val_pred2))"
      ],
      "metadata": {
        "colab": {
          "base_uri": "https://localhost:8080/"
        },
        "id": "LOVl6dWlTDLo",
        "outputId": "f121e1a5-d2d5-43cb-978b-2ed7751c0961"
      },
      "execution_count": null,
      "outputs": [
        {
          "output_type": "stream",
          "name": "stdout",
          "text": [
            "Accuracy:  0.689119170984456\n",
            "Balanced accuracy:  0.5766497729912363\n"
          ]
        }
      ]
    },
    {
      "cell_type": "code",
      "source": [
        "#Get the confusion matrix\n",
        "cf_matrix = confusion_matrix(np.argmax(y_val, axis=1), y_val_pred2)\n",
        "print(cf_matrix)"
      ],
      "metadata": {
        "colab": {
          "base_uri": "https://localhost:8080/"
        },
        "id": "mqvYutTKRhR_",
        "outputId": "e8ce7787-17a6-453e-cfcb-cd88dd8c94a0"
      },
      "execution_count": null,
      "outputs": [
        {
          "output_type": "stream",
          "name": "stdout",
          "text": [
            "[[ 2  0  3  0  2  0  1]\n",
            " [ 3  6  1  3  2  0  0]\n",
            " [ 1  0  6  1 14  0  0]\n",
            " [ 0  0  0  1  0  0  0]\n",
            " [ 0  0  0  0 21  0  0]\n",
            " [ 0  4  4  0 18 96  1]\n",
            " [ 0  0  0  2  0  0  1]]\n"
          ]
        }
      ]
    },
    {
      "cell_type": "code",
      "execution_count": null,
      "metadata": {
        "id": "gVtvW3YeaLlC",
        "colab": {
          "base_uri": "https://localhost:8080/",
          "height": 285
        },
        "outputId": "50ea69f9-6a23-4e25-dc4d-3d887b554db3"
      },
      "outputs": [
        {
          "output_type": "display_data",
          "data": {
            "text/plain": [
              "<Figure size 1080x216 with 2 Axes>"
            ],
            "image/png": "[encoded data removed]"
          },
          "metadata": {
            "needs_background": "light"
          }
        }
      ],
      "source": [
        "ax = sns.heatmap(cf_matrix / cf_matrix.sum(axis=1, keepdims=True), annot=True, \n",
        "            cmap='Blues')\n",
        "\n",
        "ax.set_title('Confusion Matrix \\n');\n",
        "ax.set_xlabel('\\nPredicted')\n",
        "ax.set_ylabel('Actual ');\n",
        "\n",
        "## Ticket labels - List must be in alphabetical order\n",
        "ax.xaxis.set_ticklabels(['AKIEC', 'BCC', 'BKL', 'DF', 'MEL', 'NV', 'VASC'])\n",
        "ax.yaxis.set_ticklabels(['AKIEC', 'BCC', 'BKL', 'DF', 'MEL', 'NV', 'VASC'])\n",
        "\n",
        "plt.rcParams[\"figure.figsize\"] = (15,3)\n",
        "\n",
        "## Display the visualization of the Confusion Matrix.\n",
        "plt.xticks(rotation=45, ha='right')\n",
        "plt.yticks(rotation=0, ha='right')\n",
        "plt.show()"
      ]
    },
    {
      "cell_type": "code",
      "execution_count": null,
      "metadata": {
        "id": "Ey-1yjWGeKs7",
        "colab": {
          "base_uri": "https://localhost:8080/",
          "height": 509
        },
        "outputId": "7ab6a3da-e669-493c-a468-aa25bf035bf7"
      },
      "outputs": [
        {
          "output_type": "execute_result",
          "data": {
            "text/plain": [
              "[Text(0, 0, 'AKIEC'),\n",
              " Text(0, 0, 'BCC'),\n",
              " Text(0, 0, 'BKL'),\n",
              " Text(0, 0, 'DF'),\n",
              " Text(0, 0, 'MEL'),\n",
              " Text(0, 0, 'NV'),\n",
              " Text(0, 0, 'VASC')]"
            ]
          },
          "metadata": {},
          "execution_count": 41
        },
        {
          "output_type": "display_data",
          "data": {
            "text/plain": [
              "<Figure size 1080x432 with 1 Axes>"
            ],
            "image/png": "[encoded data removed]"
          },
          "metadata": {
            "needs_background": "light"
          }
        }
      ],
      "source": [
        "# ordered count of rows per unique label\n",
        "labels_count = df_val['Labels'].value_counts().sort_index()\n",
        "\n",
        "f = plt.figure(figsize=(15, 6))\n",
        "s = sns.barplot(x=labels_count.index,y=labels_count.values)\n",
        "s.set_xticklabels(s.get_xticklabels(), rotation = 30)"
      ]
    },
    {
      "cell_type": "markdown",
      "metadata": {
        "id": "3K908bbiYwbS"
      },
      "source": [
        "#Testing\n",
        "Result from ISIC Live\n",
        "last_model: 0.506\n",
        "best_model: 0.478"
      ]
    },
    {
      "cell_type": "code",
      "execution_count": null,
      "metadata": {
        "id": "NeMY2yvMYxsC"
      },
      "outputs": [],
      "source": [
        "dir_test = '/content/drive/MyDrive/PHD/Datasets/isic2018/ISIC2018_Task3_Test_Input/'\n",
        "filepaths = sorted( filter( lambda x: (os.path.isfile(os.path.join(dir_test, x))) and (x.endswith('.jpg')),\n",
        "                        os.listdir(dir_test) ) )"
      ]
    },
    {
      "cell_type": "code",
      "execution_count": null,
      "metadata": {
        "id": "6ic95mefkpG3"
      },
      "outputs": [],
      "source": [
        "df_test = pd.DataFrame(filepaths, columns =['image'])\n",
        "df_test['FilePaths'] = dir_test + df_test['image']\n",
        "#df_test"
      ]
    },
    {
      "cell_type": "code",
      "execution_count": null,
      "metadata": {
        "id": "NBa1TxPuY8ni"
      },
      "outputs": [],
      "source": [
        "df_test['image_px'] = df_test['FilePaths'].map(lambda x: np.asarray(Image.open(x).resize(IMG_SIZE)))"
      ]
    },
    {
      "cell_type": "code",
      "execution_count": null,
      "metadata": {
        "id": "60LYAT7VsNOZ",
        "colab": {
          "base_uri": "https://localhost:8080/"
        },
        "outputId": "7d59453e-d24a-4497-eab5-68a206ab63b3"
      },
      "outputs": [
        {
          "output_type": "stream",
          "name": "stdout",
          "text": [
            "(1512, 224, 224, 3)\n"
          ]
        }
      ],
      "source": [
        "X_test = np.asarray(df_test['image_px'].tolist())\n",
        "print(np.array(X_test).shape)"
      ]
    },
    {
      "cell_type": "markdown",
      "metadata": {
        "id": "FF7ml90JZ8FK"
      },
      "source": [
        "Calculate y_pred from training and testing for analysis"
      ]
    },
    {
      "cell_type": "code",
      "execution_count": null,
      "metadata": {
        "id": "dIX0AmEFNv3Y",
        "colab": {
          "base_uri": "https://localhost:8080/"
        },
        "outputId": "d7aa7be6-aec2-4e53-e8bb-e2fbabe6e561"
      },
      "outputs": [
        {
          "output_type": "stream",
          "name": "stdout",
          "text": [
            "Y_pred2 (1512, 7)\n"
          ]
        }
      ],
      "source": [
        "# predicting\n",
        "Y_pred2 = last_model.predict(X_test)\n",
        "print(\"Y_pred2\", Y_pred2.shape)"
      ]
    },
    {
      "cell_type": "code",
      "execution_count": null,
      "metadata": {
        "id": "7oeArO5CtxGb"
      },
      "outputs": [],
      "source": [
        "df_pred = pd.DataFrame(Y_pred2, columns = ['AKIEC', 'BCC', 'BKL', 'DF', 'MEL', 'NV', 'VASC'])\n",
        "df_pred['image'] = df_test['FilePaths'].map(lambda x: x.replace(dir_test, '').replace('.jpg', ''))\n",
        "df_pred = df_pred[['image', 'MEL', 'NV', 'BCC', 'AKIEC', 'BKL', 'DF', 'VASC']]\n",
        "df_pred.set_index(\"image\", inplace = True)"
      ]
    },
    {
      "cell_type": "code",
      "source": [
        "#update MEL data using cut-off value\n",
        "df_pred.MEL[df_pred.MEL > i] = 1"
      ],
      "metadata": {
        "colab": {
          "base_uri": "https://localhost:8080/"
        },
        "id": "9ynyd8PjT589",
        "outputId": "726ac37e-fb25-4e61-e834-c5f29470a031"
      },
      "execution_count": null,
      "outputs": [
        {
          "output_type": "execute_result",
          "data": {
            "text/plain": [
              "image\n",
              "ISIC_0034524    0.034509\n",
              "ISIC_0034525    0.244370\n",
              "ISIC_0034526    0.545779\n",
              "ISIC_0034527    0.226041\n",
              "ISIC_0034528    0.435833\n",
              "                  ...   \n",
              "ISIC_0036060    0.356197\n",
              "ISIC_0036061    0.155762\n",
              "ISIC_0036062    0.167033\n",
              "ISIC_0036063    0.665429\n",
              "ISIC_0036064    0.594799\n",
              "Name: MEL, Length: 1512, dtype: float32"
            ]
          },
          "metadata": {},
          "execution_count": 71
        }
      ]
    },
    {
      "cell_type": "code",
      "source": [
        "df_pred.MEL"
      ],
      "metadata": {
        "colab": {
          "base_uri": "https://localhost:8080/"
        },
        "id": "-Ju5w_K5V2Tu",
        "outputId": "5f02a3db-7a6c-4250-b0ea-8d437da861d8"
      },
      "execution_count": null,
      "outputs": [
        {
          "output_type": "execute_result",
          "data": {
            "text/plain": [
              "image\n",
              "ISIC_0034524    0.034509\n",
              "ISIC_0034525    0.244370\n",
              "ISIC_0034526    1.000000\n",
              "ISIC_0034527    0.226041\n",
              "ISIC_0034528    1.000000\n",
              "                  ...   \n",
              "ISIC_0036060    1.000000\n",
              "ISIC_0036061    0.155762\n",
              "ISIC_0036062    0.167033\n",
              "ISIC_0036063    1.000000\n",
              "ISIC_0036064    1.000000\n",
              "Name: MEL, Length: 1512, dtype: float32"
            ]
          },
          "metadata": {},
          "execution_count": 80
        }
      ]
    },
    {
      "cell_type": "code",
      "source": [
        "df_pred.loc[df_pred.MEL > i, ['NV', 'BCC', 'AKIEC', 'BKL', 'DF', 'VASC']] = 0\n"
      ],
      "metadata": {
        "id": "fjRdONoQVMq0"
      },
      "execution_count": null,
      "outputs": []
    },
    {
      "cell_type": "code",
      "execution_count": null,
      "metadata": {
        "id": "sOnjc3RJ0e4T"
      },
      "outputs": [],
      "source": [
        "df_pred.to_csv('/content/drive/MyDrive/PHD/Datasets/isic2018/response_SMOTEOversampling_cut-off.csv')"
      ]
    }
  ],
  "metadata": {
    "accelerator": "GPU",
    "colab": {
      "collapsed_sections": [
        "uZv-B-ygCD57",
        "cNBXx28B9yGu",
        "0jrJ33lUDkCM",
        "3K908bbiYwbS"
      ],
      "machine_shape": "hm",
      "provenance": [],
      "include_colab_link": true
    },
    "gpuClass": "standard",
    "kernelspec": {
      "display_name": "Python 3",
      "name": "python3"
    },
    "language_info": {
      "name": "python"
    }
  },
  "nbformat": 4,
  "nbformat_minor": 0
}